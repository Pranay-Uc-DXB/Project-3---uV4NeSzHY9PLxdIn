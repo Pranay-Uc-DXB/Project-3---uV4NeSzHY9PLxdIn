{
 "cells": [
  {
   "cell_type": "code",
   "execution_count": 39,
   "metadata": {},
   "outputs": [],
   "source": [
    "import torch\n",
    "import os \n",
    "\n",
    "# Importing all the packages\n",
    "\n",
    "import torch\n",
    "from torch import nn\n",
    "from torchvision.datasets import ImageFolder\n",
    "from torchvision.transforms import Compose\n",
    "from torchvision.transforms import ToTensor\n",
    "from torchvision.transforms import RandomResizedCrop\n",
    "from torchvision.transforms import RandomHorizontalFlip\n",
    "from torchvision.transforms import RandomRotation\n",
    "from torchvision.transforms import Normalize\n",
    "from torchvision.transforms import Resize\n",
    "from torchvision.transforms import transforms\n",
    "from torch.nn import CrossEntropyLoss\n",
    "from torch.nn import Softmax\n",
    "from torch.nn import ReLU\n",
    "from torch.nn import Dropout\n",
    "from torch import optim\n",
    "from tqdm import tqdm\n",
    "from matplotlib import pyplot as plt \n",
    "import argparse\n",
    "\n"
   ]
  },
  {
   "cell_type": "code",
   "execution_count": 40,
   "metadata": {},
   "outputs": [],
   "source": [
    "import sys\n",
    "sys.argv=['']\n",
    "del sys\n",
    "\n",
    "\n",
    "ap = argparse.ArgumentParser()\n",
    "ap.add_argument(\"-m\", \"--model\", type=str, default=\"mobilenet\", choices=[\"vgg\", \"resnet\",\"mobilenet\"], help=\"name of the backbone model\")\n",
    "args = vars(ap.parse_args())"
   ]
  },
  {
   "cell_type": "code",
   "execution_count": 41,
   "metadata": {},
   "outputs": [],
   "source": [
    "# Specifying mean and SD from imagenet dataset statistics\n",
    "Mean= [0.485, 0.456, 0.406]\n",
    "STD= [0.229, 0.224, 0.225]\n",
    "\n",
    "# Specifying training hyperparameters\n",
    "Image_size=768\n",
    "Batch_size= 20\n",
    "Pred_batch_size= 4\n",
    "EPOCHS=11\n",
    "LR=0.0008\n",
    "\n",
    "# Determining the device type\n",
    "Device= torch.device(\"cuda\") if torch.cuda.is_available() else \"cpu\""
   ]
  },
  {
   "cell_type": "code",
   "execution_count": 42,
   "metadata": {},
   "outputs": [],
   "source": [
    "testing_path=r\"C:\\Users\\97158\\Desktop\\Apziva\\Project 4-MonReader\\images\\testing\" "
   ]
  },
  {
   "cell_type": "code",
   "execution_count": 43,
   "metadata": {},
   "outputs": [],
   "source": [
    "from sklearn.model_selection import train_test_split\n",
    "from torch.utils.data import DataLoader\n",
    "from torch.utils.data import Subset\n",
    "\n",
    "# Defining the dataloader function\n",
    "def get_Dataloader(Dataset, Batch_size, shuffle=True):\n",
    "    dl=DataLoader(Dataset,Batch_size,shuffle=shuffle)\n",
    "    return dl"
   ]
  },
  {
   "cell_type": "code",
   "execution_count": 44,
   "metadata": {},
   "outputs": [],
   "source": [
    "testTransform=Compose([\n",
    "    Resize((Image_size,Image_size)),\n",
    "    ToTensor(),\n",
    "    Normalize(mean=Mean,std=STD)\n",
    "])\n",
    "\n",
    "#Creating test Dataset\n",
    "testDataset=ImageFolder(testing_path,testTransform)\n",
    "\n",
    "# Initializing the test dataset\n",
    "testLoader= get_Dataloader(testDataset,Batch_size=Batch_size)"
   ]
  },
  {
   "cell_type": "code",
   "execution_count": 45,
   "metadata": {},
   "outputs": [
    {
     "name": "stderr",
     "output_type": "stream",
     "text": [
      "Using cache found in C:\\Users\\97158/.cache\\torch\\hub\\pytorch_vision_v0.10.0\n"
     ]
    }
   ],
   "source": [
    "# check if the name of the backbone model is VGG\n",
    "if args[\"model\"] == \"vgg\":\n",
    "\t# load VGG-11 model\n",
    "\tbaseModel = torch.hub.load(\"pytorch/vision:v0.10.0\", \"vgg11\",weights='VGG11_Weights.DEFAULT', skip_validation=True)\n",
    "# otherwise, the backbone model we will be using is a ResNet\n",
    "elif args[\"model\"] == \"resnet\":\n",
    "\t# load ResNet 18 model\n",
    "\tbaseModel = torch.hub.load(\"pytorch/vision:v0.10.0\", \"resnet18\",weights='ResNet18_Weights.DEFAULT', skip_validation=True)\n",
    "elif args['model']=='mobilenet':\n",
    "    baseModel=torch.hub.load('pytorch/vision:v0.10.0','mobilenet_v2',weights='MobileNet_V2_Weights.DEFAULT',skip_validation=True) \t"
   ]
  },
  {
   "cell_type": "code",
   "execution_count": 46,
   "metadata": {},
   "outputs": [],
   "source": [
    "# from torch.nn import Linear, Module, Sequential, Conv2d\n",
    "\n",
    "\n",
    "# class Classifier(Module):\n",
    "#     def __init__(self, baseModel, numclasses, model):\n",
    "#         super().__init__()\n",
    "#         self.baseModel = baseModel\n",
    "\n",
    "#         if model == 'vgg':\n",
    "#             # Extracting the number of input features from the last layer of VGG\n",
    "#             num_features = baseModel.classifier[6].out_features\n",
    "            \n",
    "#             # Defining the extra layer\n",
    "#             self.extra_layer1 = Linear(num_features, 512)  # Assuming 512 output features\n",
    "#             self.relu1 = ReLU(inplace=True)\n",
    "#             self.extra_layer2=Linear(512,256)\n",
    "#             self.relu2=ReLU(inplace=True)\n",
    "            \n",
    "#             # Defining the final fully connected layer for classification\n",
    "#             self.fc = Linear(256, numclasses)  # Using the output features from the extra layer\n",
    "#         elif model=='resnet':\n",
    "            \n",
    "#             self.extra_layer1=Linear(baseModel.fc.out_features,512,bias=True)\n",
    "#             self.relu1=ReLU(inplace=True)\n",
    "#             self.extra_layer2=Linear(512,256,bias=True)\n",
    "#             self.relu2=ReLU(inplace=True)\n",
    "\n",
    "#             # Defining the final fully connected layer for classification\n",
    "#             self.fc=Linear(256,numclasses,bias=True)\n",
    "\n",
    "#         elif model=='mobilenet':\n",
    "\n",
    "#             num_features=baseModel.classifier[1].out_features\n",
    "\n",
    "#             #Defining extra layer\n",
    "#             self.extra_layer1=Linear(num_features,512,bias=True)\n",
    "#             self.relu1 = ReLU(inplace=True)\n",
    "#             self.extra_layer2=Linear(512,256,bias=True)\n",
    "#             self.relu2=ReLU(inplace=True)\n",
    "            \n",
    "#             # Defining the final fully connected layer for classification\n",
    "#             self.fc = Linear(256, numclasses,bias=True)  # Using the output features from the extra layer\n",
    "\n",
    "\n",
    "#         # Softmax layer for classification\n",
    "#         #self.softmax = Softmax(dim=1)\n",
    "\n",
    "#     def forward(self, x):\n",
    "#         features = self.baseModel(x)\n",
    "        \n",
    "#         # Applying the extra layer and ReLU activation\n",
    "#         if 'vgg' in self.baseModel.__class__.__name__.lower():\n",
    "#             features = self.extra_layer1(features)\n",
    "#             features=self.relu1(features)\n",
    "#             features=self.extra_layer2(features)\n",
    "#             features = self.relu2(features)\n",
    "\n",
    "#         elif 'resnet' in self.baseModel.__class__.__name__.lower():\n",
    "#             #Applying the extra layer and ReLu activation\n",
    "#             features = self.extra_layer1(features)\n",
    "#             features=self.relu1(features)\n",
    "#             features=self.extra_layer2(features)\n",
    "#             features = self.relu2(features)   \n",
    "\n",
    "#         elif 'mobilenet' in self.baseModel.__class__.__name__.lower():  \n",
    "#             features = self.extra_layer1(features)\n",
    "#             features=self.relu1(features)\n",
    "#             features=self.extra_layer2(features)\n",
    "#             features = self.relu2(features)\n",
    "\n",
    "        \n",
    "#         # Passing the features through the final fully connected layer\n",
    "#         logits = self.fc(features)\n",
    "#         #output=self.softmax(logits)\n",
    "#         return logits        \n",
    "        "
   ]
  },
  {
   "cell_type": "code",
   "execution_count": 47,
   "metadata": {},
   "outputs": [],
   "source": [
    "from torch.nn import Linear, Module, Sequential, Conv2d\n",
    "\n",
    "\n",
    "class Classifier(Module):\n",
    "    def __init__(self, baseModel, numclasses, model):\n",
    "        super().__init__()\n",
    "        self.baseModel = baseModel\n",
    "\n",
    "        if model == 'vgg':\n",
    "            # Extracting the number of input features from the last layer of VGG\n",
    "            num_features = baseModel.classifier[6].out_features\n",
    "            \n",
    "            # Defining the extra layer\n",
    "            self.fc=Sequential(Linear(num_features,512),\n",
    "                               ReLU(inplace=True),\n",
    "                               Dropout(0.2),\n",
    "                               Linear(512,256),\n",
    "                               ReLU(inplace=True),\n",
    "                               Dropout(0.2),\n",
    "                               Linear(256,numclasses),\n",
    "                               Softmax(dim=1))\n",
    "            \n",
    "            \n",
    "        elif model=='resnet':\n",
    "            num_features=baseModel.fc.out_features\n",
    "\n",
    "            baseModel.classifier=Sequential(Linear(num_features,512,bias=True),\n",
    "                               ReLU(inplace=True),\n",
    "                               Dropout(0.2),\n",
    "                               Linear(512,256,bias=True),\n",
    "                               ReLU(inplace=True),\n",
    "                               Dropout(0.2),\n",
    "                               Linear(256,numclasses,bias=True))\n",
    "                               #Softmax(dim=1))\n",
    "\n",
    "        elif model=='mobilenet':\n",
    "\n",
    "            #num_features=baseModel.classifier[1].out_features\n",
    "\n",
    "            # self.fc=Sequential(Linear(num_features,512,bias=True),\n",
    "            #                    ReLU(inplace=True),\n",
    "            #                    Dropout(0.2),\n",
    "            #                    Linear(512,256,bias=True),\n",
    "            #                    ReLU(inplace=True),\n",
    "            #                    Dropout(0.2),\n",
    "            #                    Linear(256,numclasses,bias=True),\n",
    "            #                    Softmax(dim=1))\n",
    "            \n",
    "            # self.baseModel.classifier=Sequential(\n",
    "            #                    Dropout(0.2),\n",
    "            #                    Linear(1280,1000,bias=True),\n",
    "            #                    ReLU(inplace=True),\n",
    "            #                    Dropout(0.2),                           \n",
    "            #                    Linear(1000,512,bias=True),\n",
    "            #                    ReLU(inplace=True),\n",
    "            #                    Dropout(0.2),\n",
    "            #                    Linear(512,256,bias=True),\n",
    "            #                    ReLU(inplace=True),\n",
    "            #                    Dropout(0.2),\n",
    "            #                    Linear(256,numclasses,bias=True))\n",
    "            #                    #Softmax(dim=1))\n",
    "            \n",
    "            # self.classifier=Sequential(Dropout(0.2),\n",
    "            #                    Linear(num_features,512,bias=True),\n",
    "            #                    ReLU(inplace=True),\n",
    "            #                    Dropout(0.2),\n",
    "            #                    Linear(512,256,bias=True),\n",
    "            #                    ReLU(inplace=True),\n",
    "            #                    Dropout(0.2),\n",
    "            #                    Linear(256,numclasses,bias=True))\n",
    "            #                   # Softmax(dim=1))\n",
    "            \n",
    "          \n",
    "            \n",
    "            # self.baseModel.fc=Sequential(Dropout(0.2),\n",
    "            #                    Linear(1000,512,bias=True),\n",
    "            #                    ReLU(inplace=True),\n",
    "            #                    Dropout(0.2),\n",
    "            #                    Linear(512,256,bias=True),\n",
    "            #                    ReLU(inplace=True),\n",
    "            #                    Dropout(0.2),\n",
    "            #                    Linear(256,2,bias=True))\n",
    "            #                 #    ReLU(inplace=True),\n",
    "            #                 #    Dropout(0.2),\n",
    "            #                 #    Linear(256,numclasses,bias=True))\n",
    "            #                   # Softmax(dim=1))\n",
    "           \n",
    "\n",
    "            for module, param in zip(baseModel.modules(),baseModel.parameters()):\n",
    "                 if isinstance(module, nn.BatchNorm2d):\n",
    "                      param.requires_grad=False\n",
    "             \n",
    "            num_features=baseModel.classifier[-1].out_features\n",
    "            additional_layers=[Dropout(0.2),\n",
    "                                Linear(num_features,512,bias=True),\n",
    "                                ReLU(inplace=True),\n",
    "                                Dropout(0.2),\n",
    "                                Linear(512,256,bias=True),\n",
    "                                ReLU(inplace=True),\n",
    "                                Dropout(0.2),\n",
    "                                Linear(256,numclasses,bias=True)]\n",
    "            baseModel.fc=Sequential(*additional_layers)\n",
    "              \n",
    "        \n",
    "\n",
    "    def forward(self, x):\n",
    "        features = self.baseModel(x)\n",
    "        \n",
    "        # Applying the extra layer and ReLU activation\n",
    "        if 'vgg' in self.baseModel.__class__.__name__.lower():\n",
    "              logits = self.fc(features)\n",
    "              \n",
    "        elif 'resnet' in self.baseModel.__class__.__name__.lower():\n",
    "              logits = self.baseModel.classifier(features)  \n",
    "\n",
    "        elif 'mobilenet' in self.baseModel.__class__.__name__.lower():        \n",
    "        # Flatten the features\n",
    "              #flattened_features = torch.flatten(features, start_dim=1)  # Flatten starting from the second dimension\n",
    "              #logits=self.baseModel.classifier(features.view(features.size(0), -1))\n",
    "              logits =self.baseModel.fc(features)\n",
    "\n",
    "        return logits        \n",
    "        "
   ]
  },
  {
   "cell_type": "code",
   "execution_count": 48,
   "metadata": {},
   "outputs": [],
   "source": [
    "# Defining paths to store trained model\n",
    "VGG_Model_path= os.path.join(\"model_output\",\"VGG_model.pth\")\n",
    "RESNET_Model_path= os.path.join(\"model_output\",\"ResNet_model.pth\")\n",
    "MobileNet_Model_path= os.path.join(\"model_output\",\"MobileNet_model.pth\")"
   ]
  },
  {
   "cell_type": "code",
   "execution_count": 49,
   "metadata": {},
   "outputs": [],
   "source": [
    "#Loading the model state and inititalizing the loss function\n",
    "# build the custom model\n",
    "model = Classifier(baseModel=baseModel.to(Device),numclasses=2, model=args['model'])\n",
    "model = model.to(Device)\n",
    "\n",
    "\n",
    "if args['model']=='vgg':\n",
    "    model.load_state_dict(torch.load(VGG_Model_path))\n",
    "elif args['model']=='resnet':\n",
    "    model.load_state_dict(torch.load(RESNET_Model_path))\n",
    "elif args['model']=='mobilenet':\n",
    "    model.load_state_dict(torch.load(MobileNet_Model_path))       "
   ]
  },
  {
   "cell_type": "code",
   "execution_count": 50,
   "metadata": {},
   "outputs": [],
   "source": [
    "# import torch.nn.functional as F\n",
    "# import numpy as np\n",
    "# from sklearn.metrics import classification_report\n",
    "\n",
    "# #Activation_func=Softmax()\n",
    "\n",
    "# #Turning off autograd for testing evaluation\n",
    "# with torch.no_grad():\n",
    "\n",
    "# # setting the model in evaluation mode\n",
    "#     model.eval()\n",
    "\n",
    "# # initializing list to store predictions\n",
    "#     test_pred=[]\n",
    "#     test_correct=0\n",
    "\n",
    "# # looping over the test set\n",
    "#     for (x,y) in testLoader:\n",
    "#         x=x.to(Device)\n",
    "#         y=y.to(Device)\n",
    "\n",
    "#         logit = model(x)\n",
    "\n",
    "# # making predictions and adding them to the lisy above\n",
    "#         pred = F.softmax(logit, dim=1)\n",
    "#         test_pred.extend(pred.argmax(axis=1).detach().cpu().numpy())\n",
    "#         test_correct += (pred.argmax(dim=-1) == y).sum().item()\n",
    "#         #test_pred.extend(logit.argmax(axis=1).cpu().numpy())\n",
    "        \n",
    "# test_targets=np.array(testDataset.targets)\n",
    "# test_pred=np.array(test_pred)\n",
    "\n",
    "# # generating classification report\n",
    "# print(classification_report(test_targets,test_pred,target_names=testDataset.classes))"
   ]
  },
  {
   "cell_type": "code",
   "execution_count": 51,
   "metadata": {},
   "outputs": [],
   "source": [
    "# print test data accuracy\t\t\n",
    "# print(test_correct/len(testDataset))"
   ]
  },
  {
   "cell_type": "code",
   "execution_count": null,
   "metadata": {},
   "outputs": [],
   "source": []
  },
  {
   "cell_type": "markdown",
   "metadata": {},
   "source": [
    "# Alternative code"
   ]
  },
  {
   "cell_type": "code",
   "execution_count": 52,
   "metadata": {},
   "outputs": [],
   "source": [
    "# Initializing Test Data\n",
    "TestCorrect=0\n",
    "soft=Softmax()"
   ]
  },
  {
   "cell_type": "code",
   "execution_count": 53,
   "metadata": {},
   "outputs": [
    {
     "name": "stderr",
     "output_type": "stream",
     "text": [
      "  0%|          | 0/30 [00:00<?, ?it/s]c:\\Users\\97158\\anaconda3\\Lib\\site-packages\\torch\\nn\\modules\\module.py:1518: UserWarning: Implicit dimension choice for softmax has been deprecated. Change the call to include dim=X as an argument.\n",
      "  return self._call_impl(*args, **kwargs)\n",
      "100%|██████████| 30/30 [00:32<00:00,  1.09s/it]"
     ]
    },
    {
     "name": "stdout",
     "output_type": "stream",
     "text": [
      "              precision    recall  f1-score   support\n",
      "\n",
      "   0_notflip       0.53      0.53      0.53       307\n",
      "      1_flip       0.50      0.49      0.49       290\n",
      "\n",
      "    accuracy                           0.51       597\n",
      "   macro avg       0.51      0.51      0.51       597\n",
      "weighted avg       0.51      0.51      0.51       597\n",
      "\n"
     ]
    },
    {
     "name": "stderr",
     "output_type": "stream",
     "text": [
      "\n"
     ]
    }
   ],
   "source": [
    "import numpy as np\n",
    "from sklearn.metrics import classification_report\n",
    "\n",
    "\n",
    "TestCorrect=0\n",
    "\n",
    "# Putting the model in evaluation mode with gradients turned off\n",
    "with torch.no_grad():\n",
    "    model.eval() \n",
    "\n",
    "    test_pred=[]\n",
    "    \n",
    "\n",
    "# Looping over the test test and sending it to device\n",
    "    for (image, targets) in tqdm(testLoader):\n",
    "        (image,targets)=(image.to(Device),targets.to(Device))\n",
    "\n",
    "        # Making the predictions and calculating the validation loss\n",
    "        \n",
    "        logit=model(image)\n",
    "\n",
    "    # Getting predictions and calculating all the correct predictions\n",
    "        pred=soft(logit)\n",
    "        test_pred.extend(pred.argmax(axis=1).detach().cpu().numpy())\n",
    "        TestCorrect += (pred.argmax(dim=-1)== targets).sum().item()\n",
    "\n",
    "\n",
    "test_targets=np.array(testDataset.targets)\n",
    "test_pred=np.array(test_pred)\n",
    "\n",
    "# generating classification report\n",
    "print(classification_report(test_targets,test_pred,target_names=testDataset.classes))"
   ]
  },
  {
   "cell_type": "code",
   "execution_count": 55,
   "metadata": {},
   "outputs": [
    {
     "name": "stdout",
     "output_type": "stream",
     "text": [
      "0.9916247906197655\n"
     ]
    }
   ],
   "source": [
    "# print test data accuracy\t\t\n",
    "print(TestCorrect/len(testDataset))"
   ]
  },
  {
   "cell_type": "code",
   "execution_count": 30,
   "metadata": {},
   "outputs": [],
   "source": [
    "from torchvision import transforms\n",
    "from torchvision.transforms import Normalize"
   ]
  },
  {
   "cell_type": "code",
   "execution_count": 31,
   "metadata": {},
   "outputs": [],
   "source": [
    "# calculate the inverse mean and standard deviation\n",
    "invMean = [-m/s for (m, s) in zip(Mean, STD)]\n",
    "invStd = [1/s for s in STD]\n",
    "# define our denormalization transform\n",
    "deNormalize = transforms.Normalize(mean=invMean, std=invStd)"
   ]
  },
  {
   "cell_type": "code",
   "execution_count": 32,
   "metadata": {},
   "outputs": [
    {
     "data": {
      "text/plain": [
       "<Figure size 1000x1000 with 0 Axes>"
      ]
     },
     "metadata": {},
     "output_type": "display_data"
    }
   ],
   "source": [
    "%matplotlib inline\n",
    "\n",
    "\n",
    "# initialize iterable variable\n",
    "sweeper = iter(testLoader)\n",
    "# grab a batch of test data\n",
    "batch = next(sweeper)\n",
    "(images, labels) = (batch[0], batch[1])\n",
    "# initialize a figure\n",
    "fig = plt.figure(\"Results\", figsize=(10, 10 ))\n",
    "plt.show(fig)"
   ]
  },
  {
   "cell_type": "code",
   "execution_count": 33,
   "metadata": {},
   "outputs": [
    {
     "data": {
      "image/png": "[encoded data removed]",
      "text/plain": [
       "<Figure size 640x480 with 4 Axes>"
      ]
     },
     "metadata": {},
     "output_type": "display_data"
    }
   ],
   "source": [
    "# switch off autograd\n",
    "with torch.no_grad():\n",
    "\t# send the images to the device\n",
    "\timages = image.to(Device)\n",
    "\t# make the predictions\n",
    "\tpreds = model(images)\n",
    "\t# loop over all the batch\n",
    "\tfor i in range(0, Pred_batch_size):\n",
    "\t\t# initialize a subplot\n",
    "\t\tax = plt.subplot(Pred_batch_size, 1, i + 1)\n",
    "\t\t# grab the image, de-normalize it, scale the raw pixel\n",
    "\t\t# intensities to the range [0, 255], and change the channel\n",
    "\t\t# ordering from channels first tp channels last\n",
    "\t\timage = images[i]\n",
    "\t\timage = deNormalize(image).cpu().numpy()\n",
    "\t\timage = (image * 255).astype(\"uint8\")\n",
    "\t\timage = image.transpose((1, 2, 0))\n",
    "\t\t# grab the ground truth label\n",
    "\t\tidx = labels[i].cpu().numpy()\n",
    "\t\tgtLabel = testDataset.classes[idx]\n",
    "\t\t# grab the predicted label\n",
    "\t\tpred = preds[i].argmax().cpu().numpy()\n",
    "\t\tpredLabel = testDataset.classes[pred]\n",
    "\t\t# add the results and image to the plot\n",
    "\t\tinfo = \"Ground Truth: {}, Predicted: {}\".format(gtLabel,\n",
    "\t\t\t\tpredLabel)\n",
    "\t\tplt.imshow(image)\n",
    "\t\tplt.title(info)\n",
    "\t\tplt.axis(\"off\")\n",
    "\t\n",
    "\t# show the plot\n",
    "\tplt.tight_layout()\n",
    "\tplt.show()"
   ]
  },
  {
   "cell_type": "code",
   "execution_count": 34,
   "metadata": {},
   "outputs": [],
   "source": [
    "# logit\n",
    "# pred\n",
    "# pred.argmax(axis=1)\n",
    "# test_pred\n",
    "# pred.argmax(dim=-1)== targets\n",
    "# targets"
   ]
  },
  {
   "cell_type": "code",
   "execution_count": 35,
   "metadata": {},
   "outputs": [
    {
     "data": {
      "text/plain": [
       "'0_notflip'"
      ]
     },
     "execution_count": 35,
     "metadata": {},
     "output_type": "execute_result"
    }
   ],
   "source": [
    "testDataset.classes[pred]"
   ]
  },
  {
   "cell_type": "code",
   "execution_count": 36,
   "metadata": {},
   "outputs": [
    {
     "data": {
      "text/plain": [
       "(tensor([[[ 0.6392,  0.6221,  0.6221,  ...,  0.6049,  0.6049,  0.6049],\n",
       "          [ 0.6392,  0.6392,  0.6221,  ...,  0.6049,  0.6049,  0.6049],\n",
       "          [ 0.6049,  0.6049,  0.6049,  ...,  0.6049,  0.6049,  0.6049],\n",
       "          ...,\n",
       "          [-2.0152, -2.0152, -2.0152,  ..., -2.0837, -2.0837, -2.0837],\n",
       "          [-2.0152, -2.0152, -2.0152,  ..., -2.0837, -2.0837, -2.0837],\n",
       "          [-2.0152, -2.0152, -2.0152,  ..., -2.0837, -2.0837, -2.0837]],\n",
       " \n",
       "         [[ 0.5553,  0.5378,  0.5378,  ...,  0.7129,  0.7129,  0.7129],\n",
       "          [ 0.5553,  0.5553,  0.5378,  ...,  0.7129,  0.7129,  0.7129],\n",
       "          [ 0.5553,  0.5553,  0.5553,  ...,  0.7129,  0.7129,  0.7129],\n",
       "          ...,\n",
       "          [-1.9657, -1.9657, -1.9657,  ..., -2.0007, -2.0007, -2.0007],\n",
       "          [-1.9657, -1.9657, -1.9657,  ..., -2.0007, -2.0007, -2.0007],\n",
       "          [-1.9657, -1.9657, -1.9657,  ..., -2.0007, -2.0007, -2.0007]],\n",
       " \n",
       "         [[ 0.4788,  0.4614,  0.4439,  ...,  0.4962,  0.4962,  0.4962],\n",
       "          [ 0.4788,  0.4788,  0.4614,  ...,  0.4962,  0.4962,  0.4962],\n",
       "          [ 0.4614,  0.4614,  0.4614,  ...,  0.4962,  0.4962,  0.4962],\n",
       "          ...,\n",
       "          [-1.7173, -1.7173, -1.6824,  ..., -1.7696, -1.7696, -1.7696],\n",
       "          [-1.7173, -1.7173, -1.6824,  ..., -1.7696, -1.7696, -1.7696],\n",
       "          [-1.7173, -1.7173, -1.6824,  ..., -1.7696, -1.7696, -1.7696]]]),\n",
       " 0)"
      ]
     },
     "execution_count": 36,
     "metadata": {},
     "output_type": "execute_result"
    }
   ],
   "source": [
    "testDataset[pred]"
   ]
  },
  {
   "cell_type": "code",
   "execution_count": 37,
   "metadata": {},
   "outputs": [
    {
     "data": {
      "text/plain": [
       "['0_notflip', '1_flip']"
      ]
     },
     "execution_count": 37,
     "metadata": {},
     "output_type": "execute_result"
    }
   ],
   "source": [
    "testDataset.classes"
   ]
  },
  {
   "cell_type": "code",
   "execution_count": 38,
   "metadata": {},
   "outputs": [
    {
     "data": {
      "text/plain": [
       "()"
      ]
     },
     "execution_count": 38,
     "metadata": {},
     "output_type": "execute_result"
    }
   ],
   "source": [
    "pred.shape"
   ]
  },
  {
   "cell_type": "code",
   "execution_count": null,
   "metadata": {},
   "outputs": [],
   "source": []
  }
 ],
 "metadata": {
  "kernelspec": {
   "display_name": "base",
   "language": "python",
   "name": "python3"
  },
  "language_info": {
   "codemirror_mode": {
    "name": "ipython",
    "version": 3
   },
   "file_extension": ".py",
   "mimetype": "text/x-python",
   "name": "python",
   "nbconvert_exporter": "python",
   "pygments_lexer": "ipython3",
   "version": "3.11.5"
  }
 },
 "nbformat": 4,
 "nbformat_minor": 2
}
