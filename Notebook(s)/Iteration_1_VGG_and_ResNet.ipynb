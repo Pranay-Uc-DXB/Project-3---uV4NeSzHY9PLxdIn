{
 "cells": [
  {
   "cell_type": "code",
   "execution_count": 135,
   "metadata": {},
   "outputs": [],
   "source": [
    "# Importing packages\n",
    "import torch\n",
    "import os \n",
    "\n",
    "# Defining training and testing paths\n",
    "training_path=r\"C:\\Users\\97158\\Desktop\\Apziva\\Project 4-MonReader\\images\\training\"\n",
    "testing_path=r\"C:\\Users\\97158\\Desktop\\Apziva\\Project 4-MonReader\\images\\testing\"  "
   ]
  },
  {
   "cell_type": "code",
   "execution_count": 136,
   "metadata": {},
   "outputs": [],
   "source": [
    "# Specifying mean and SD from imagenet dataset statistics\n",
    "Mean= [0.485, 0.456, 0.406]\n",
    "STD= [0.229, 0.224, 0.225]\n",
    "\n",
    "# Specifying training hyperparameters\n",
    "#Image_size=256\n",
    "Image_size=1080\n",
    "Batch_size= 32\n",
    "#Pred_batch_size= 4\n",
    "EPOCHS=16\n",
    "LR=0.0001\n",
    "\n",
    "# Determining the device type\n",
    "Device= torch.device(\"cuda\") if torch.cuda.is_available() else \"cpu\""
   ]
  },
  {
   "cell_type": "code",
   "execution_count": 137,
   "metadata": {},
   "outputs": [],
   "source": [
    "# Creating the directory if it doesn't exist\n",
    "os.makedirs(\"model_output\", exist_ok=True)\n",
    "\n",
    "# Defining paths to store trained model\n",
    "VGG_Model_path= os.path.join(\"model_output\",\"VGG_model.pth\")\n",
    "RESNET_Model_path= os.path.join(\"model_output\",\"ResNet_model.pth\")"
   ]
  },
  {
   "cell_type": "markdown",
   "metadata": {},
   "source": [
    "Training our Classifier\n"
   ]
  },
  {
   "cell_type": "code",
   "execution_count": 138,
   "metadata": {},
   "outputs": [],
   "source": [
    "# Importing all the packages\n",
    "\n",
    "import torch\n",
    "from torchvision.datasets import ImageFolder\n",
    "from torchvision.transforms import Compose\n",
    "from torchvision.transforms import ToTensor\n",
    "from torchvision.transforms import RandomResizedCrop\n",
    "from torchvision.transforms import RandomHorizontalFlip\n",
    "from torchvision.transforms import RandomRotation\n",
    "from torchvision.transforms import Normalize\n",
    "from torchvision.transforms import Resize\n",
    "from torchvision.transforms import transforms\n",
    "from torch.nn import CrossEntropyLoss\n",
    "from torch.nn import Softmax\n",
    "from torch.nn import ReLU\n",
    "from torch.nn import Dropout\n",
    "from torch import optim\n",
    "from tqdm import tqdm\n",
    "from matplotlib import pyplot as plt \n",
    "import argparse"
   ]
  },
  {
   "cell_type": "code",
   "execution_count": 139,
   "metadata": {},
   "outputs": [],
   "source": [
    "# Importing the necessary packages\n",
    "from sklearn.model_selection import train_test_split\n",
    "from torch.utils.data import DataLoader\n",
    "from torch.utils.data import Subset\n",
    "\n",
    "# Defining the dataloader function\n",
    "def get_Dataloader(Dataset, Batch_size, shuffle=True):\n",
    "    dl=DataLoader(Dataset,Batch_size,shuffle=shuffle)\n",
    "    return dl\n",
    "# Train_Val Dataset Splitter\n",
    "\n",
    "def train_val_split(Dataset, val_split=0.2):\n",
    "\n",
    "    total_size=len(Dataset)\n",
    "    (train_idx, val_idx)= train_test_split(list(range(total_size)),test_size=val_split)\n",
    "\n",
    "    train_set=Subset(Dataset,train_idx)\n",
    "    test_set=Subset(Dataset,val_idx)\n",
    "\n",
    "    return train_set,test_set"
   ]
  },
  {
   "cell_type": "code",
   "execution_count": 140,
   "metadata": {},
   "outputs": [],
   "source": [
    "# Creating training and validation split\n",
    "(TrainDataset, ValDataset)= train_val_split(Dataset=train_dataset)\n",
    "\n",
    "# Creating training and validation data loaders\n",
    "train_laoder=get_Dataloader(Dataset=TrainDataset, Batch_size=Batch_size)\n",
    "val_loader=get_Dataloader(Dataset=ValDataset, Batch_size=Batch_size)"
   ]
  },
  {
   "cell_type": "code",
   "execution_count": 141,
   "metadata": {},
   "outputs": [
    {
     "name": "stdout",
     "output_type": "stream",
     "text": [
      "Train_Step: 59.78\n",
      "Val_step: 14.97\n"
     ]
    }
   ],
   "source": [
    "# Calculating Steps per epoch for training and validation set\n",
    "train_step= len(TrainDataset)/Batch_size\n",
    "val_step= len(ValDataset)/Batch_size\n",
    "\n",
    "print(\"Train_Step: {:.2f}\\nVal_step: {:.2f}\".format(train_step, val_step))\n",
    "\n",
    "#Initializing the results directory to store history for plotting\n",
    "Train_Val_Hist={\n",
    "    \"train_loss\":[],\n",
    "    \"train_acc\":[],\n",
    "    \"val_loss\":[],\n",
    "    \"val_acc\":[]}"
   ]
  },
  {
   "cell_type": "code",
   "execution_count": 142,
   "metadata": {},
   "outputs": [],
   "source": [
    "# Defining the tranform pipeline\n",
    "\n",
    "# Create training dataset using Imagefolder\n",
    "trainTransform=Compose([\n",
    "    RandomResizedCrop(Image_size),\n",
    "    #RandomHorizontalFlip(),\n",
    "    #RandomRotation(90),\n",
    "    ToTensor(),\n",
    "    Normalize(Mean, STD)\n",
    "])\n",
    "\n",
    "# Creating training dataset using Imagefolder\n",
    "train_dataset=ImageFolder(training_path,trainTransform)"
   ]
  },
  {
   "cell_type": "code",
   "execution_count": 143,
   "metadata": {},
   "outputs": [],
   "source": [
    "# Constructing an argument parser to choose between models from the command line\n",
    "\n",
    "import sys\n",
    "sys.argv=['']\n",
    "del sys\n",
    "\n",
    "ap=argparse.ArgumentParser()\n",
    "ap.add_argument('-m','--model',type=str,default='resnet', choices=['vgg','resnet'],\n",
    "                help='Name of the model')\n",
    "args=vars(ap.parse_args())\n"
   ]
  },
  {
   "cell_type": "code",
   "execution_count": 144,
   "metadata": {},
   "outputs": [
    {
     "name": "stderr",
     "output_type": "stream",
     "text": [
      "Using cache found in C:\\Users\\97158/.cache\\torch\\hub\\pytorch_vision_v0.10.0\n"
     ]
    }
   ],
   "source": [
    "# Defining model selection prompt and freezing training network layers to enable transfer learning. \n",
    "\n",
    "if args['model']=='vgg':\n",
    "    basemodel=torch.hub.load('pytorch/vision:v0.10.0','vgg11',weights='VGG11_Weights.DEFAULT', skip_validation=True)\n",
    "\n",
    "    for param in basemodel.parameters():\n",
    "        param.requires_grad=False\n",
    "    \n",
    "\n",
    "elif args['model']=='resnet':\n",
    "    basemodel=torch.hub.load('pytorch/vision:v0.10.0','resnet18',weights='ResNet18_Weights.DEFAULT', skip_validation=True)\n",
    "\n",
    "    lastLayer=8\n",
    "    currentLayer=1\n",
    "\n",
    "    #Looping over the child layers of the model\n",
    "    for child in basemodel.children():\n",
    "\n",
    "        if currentLayer<lastLayer:\n",
    "            for param in child.parameters():\n",
    "                param.requires_grad=False\n",
    "        else:\n",
    "            break\n",
    "        currentLayer+=1"
   ]
  },
  {
   "cell_type": "code",
   "execution_count": 145,
   "metadata": {},
   "outputs": [
    {
     "name": "stdout",
     "output_type": "stream",
     "text": [
      "ResNet(\n",
      "  (conv1): Conv2d(3, 64, kernel_size=(7, 7), stride=(2, 2), padding=(3, 3), bias=False)\n",
      "  (bn1): BatchNorm2d(64, eps=1e-05, momentum=0.1, affine=True, track_running_stats=True)\n",
      "  (relu): ReLU(inplace=True)\n",
      "  (maxpool): MaxPool2d(kernel_size=3, stride=2, padding=1, dilation=1, ceil_mode=False)\n",
      "  (layer1): Sequential(\n",
      "    (0): BasicBlock(\n",
      "      (conv1): Conv2d(64, 64, kernel_size=(3, 3), stride=(1, 1), padding=(1, 1), bias=False)\n",
      "      (bn1): BatchNorm2d(64, eps=1e-05, momentum=0.1, affine=True, track_running_stats=True)\n",
      "      (relu): ReLU(inplace=True)\n",
      "      (conv2): Conv2d(64, 64, kernel_size=(3, 3), stride=(1, 1), padding=(1, 1), bias=False)\n",
      "      (bn2): BatchNorm2d(64, eps=1e-05, momentum=0.1, affine=True, track_running_stats=True)\n",
      "    )\n",
      "    (1): BasicBlock(\n",
      "      (conv1): Conv2d(64, 64, kernel_size=(3, 3), stride=(1, 1), padding=(1, 1), bias=False)\n",
      "      (bn1): BatchNorm2d(64, eps=1e-05, momentum=0.1, affine=True, track_running_stats=True)\n",
      "      (relu): ReLU(inplace=True)\n",
      "      (conv2): Conv2d(64, 64, kernel_size=(3, 3), stride=(1, 1), padding=(1, 1), bias=False)\n",
      "      (bn2): BatchNorm2d(64, eps=1e-05, momentum=0.1, affine=True, track_running_stats=True)\n",
      "    )\n",
      "  )\n",
      "  (layer2): Sequential(\n",
      "    (0): BasicBlock(\n",
      "      (conv1): Conv2d(64, 128, kernel_size=(3, 3), stride=(2, 2), padding=(1, 1), bias=False)\n",
      "      (bn1): BatchNorm2d(128, eps=1e-05, momentum=0.1, affine=True, track_running_stats=True)\n",
      "      (relu): ReLU(inplace=True)\n",
      "      (conv2): Conv2d(128, 128, kernel_size=(3, 3), stride=(1, 1), padding=(1, 1), bias=False)\n",
      "      (bn2): BatchNorm2d(128, eps=1e-05, momentum=0.1, affine=True, track_running_stats=True)\n",
      "      (downsample): Sequential(\n",
      "        (0): Conv2d(64, 128, kernel_size=(1, 1), stride=(2, 2), bias=False)\n",
      "        (1): BatchNorm2d(128, eps=1e-05, momentum=0.1, affine=True, track_running_stats=True)\n",
      "      )\n",
      "    )\n",
      "    (1): BasicBlock(\n",
      "      (conv1): Conv2d(128, 128, kernel_size=(3, 3), stride=(1, 1), padding=(1, 1), bias=False)\n",
      "      (bn1): BatchNorm2d(128, eps=1e-05, momentum=0.1, affine=True, track_running_stats=True)\n",
      "      (relu): ReLU(inplace=True)\n",
      "      (conv2): Conv2d(128, 128, kernel_size=(3, 3), stride=(1, 1), padding=(1, 1), bias=False)\n",
      "      (bn2): BatchNorm2d(128, eps=1e-05, momentum=0.1, affine=True, track_running_stats=True)\n",
      "    )\n",
      "  )\n",
      "  (layer3): Sequential(\n",
      "    (0): BasicBlock(\n",
      "      (conv1): Conv2d(128, 256, kernel_size=(3, 3), stride=(2, 2), padding=(1, 1), bias=False)\n",
      "      (bn1): BatchNorm2d(256, eps=1e-05, momentum=0.1, affine=True, track_running_stats=True)\n",
      "      (relu): ReLU(inplace=True)\n",
      "      (conv2): Conv2d(256, 256, kernel_size=(3, 3), stride=(1, 1), padding=(1, 1), bias=False)\n",
      "      (bn2): BatchNorm2d(256, eps=1e-05, momentum=0.1, affine=True, track_running_stats=True)\n",
      "      (downsample): Sequential(\n",
      "        (0): Conv2d(128, 256, kernel_size=(1, 1), stride=(2, 2), bias=False)\n",
      "        (1): BatchNorm2d(256, eps=1e-05, momentum=0.1, affine=True, track_running_stats=True)\n",
      "      )\n",
      "    )\n",
      "    (1): BasicBlock(\n",
      "      (conv1): Conv2d(256, 256, kernel_size=(3, 3), stride=(1, 1), padding=(1, 1), bias=False)\n",
      "      (bn1): BatchNorm2d(256, eps=1e-05, momentum=0.1, affine=True, track_running_stats=True)\n",
      "      (relu): ReLU(inplace=True)\n",
      "      (conv2): Conv2d(256, 256, kernel_size=(3, 3), stride=(1, 1), padding=(1, 1), bias=False)\n",
      "      (bn2): BatchNorm2d(256, eps=1e-05, momentum=0.1, affine=True, track_running_stats=True)\n",
      "    )\n",
      "  )\n",
      "  (layer4): Sequential(\n",
      "    (0): BasicBlock(\n",
      "      (conv1): Conv2d(256, 512, kernel_size=(3, 3), stride=(2, 2), padding=(1, 1), bias=False)\n",
      "      (bn1): BatchNorm2d(512, eps=1e-05, momentum=0.1, affine=True, track_running_stats=True)\n",
      "      (relu): ReLU(inplace=True)\n",
      "      (conv2): Conv2d(512, 512, kernel_size=(3, 3), stride=(1, 1), padding=(1, 1), bias=False)\n",
      "      (bn2): BatchNorm2d(512, eps=1e-05, momentum=0.1, affine=True, track_running_stats=True)\n",
      "      (downsample): Sequential(\n",
      "        (0): Conv2d(256, 512, kernel_size=(1, 1), stride=(2, 2), bias=False)\n",
      "        (1): BatchNorm2d(512, eps=1e-05, momentum=0.1, affine=True, track_running_stats=True)\n",
      "      )\n",
      "    )\n",
      "    (1): BasicBlock(\n",
      "      (conv1): Conv2d(512, 512, kernel_size=(3, 3), stride=(1, 1), padding=(1, 1), bias=False)\n",
      "      (bn1): BatchNorm2d(512, eps=1e-05, momentum=0.1, affine=True, track_running_stats=True)\n",
      "      (relu): ReLU(inplace=True)\n",
      "      (conv2): Conv2d(512, 512, kernel_size=(3, 3), stride=(1, 1), padding=(1, 1), bias=False)\n",
      "      (bn2): BatchNorm2d(512, eps=1e-05, momentum=0.1, affine=True, track_running_stats=True)\n",
      "    )\n",
      "  )\n",
      "  (avgpool): AdaptiveAvgPool2d(output_size=(1, 1))\n",
      "  (fc): Linear(in_features=512, out_features=1000, bias=True)\n",
      ")\n"
     ]
    }
   ],
   "source": [
    "from torchvision import models\n",
    "\n",
    "resnet=models.resnet18()\n",
    "print(resnet)"
   ]
  },
  {
   "cell_type": "code",
   "execution_count": 146,
   "metadata": {},
   "outputs": [
    {
     "name": "stdout",
     "output_type": "stream",
     "text": [
      "VGG(\n",
      "  (features): Sequential(\n",
      "    (0): Conv2d(3, 64, kernel_size=(3, 3), stride=(1, 1), padding=(1, 1))\n",
      "    (1): BatchNorm2d(64, eps=1e-05, momentum=0.1, affine=True, track_running_stats=True)\n",
      "    (2): ReLU(inplace=True)\n",
      "    (3): Conv2d(64, 64, kernel_size=(3, 3), stride=(1, 1), padding=(1, 1))\n",
      "    (4): BatchNorm2d(64, eps=1e-05, momentum=0.1, affine=True, track_running_stats=True)\n",
      "    (5): ReLU(inplace=True)\n",
      "    (6): MaxPool2d(kernel_size=2, stride=2, padding=0, dilation=1, ceil_mode=False)\n",
      "    (7): Conv2d(64, 128, kernel_size=(3, 3), stride=(1, 1), padding=(1, 1))\n",
      "    (8): BatchNorm2d(128, eps=1e-05, momentum=0.1, affine=True, track_running_stats=True)\n",
      "    (9): ReLU(inplace=True)\n",
      "    (10): Conv2d(128, 128, kernel_size=(3, 3), stride=(1, 1), padding=(1, 1))\n",
      "    (11): BatchNorm2d(128, eps=1e-05, momentum=0.1, affine=True, track_running_stats=True)\n",
      "    (12): ReLU(inplace=True)\n",
      "    (13): MaxPool2d(kernel_size=2, stride=2, padding=0, dilation=1, ceil_mode=False)\n",
      "    (14): Conv2d(128, 256, kernel_size=(3, 3), stride=(1, 1), padding=(1, 1))\n",
      "    (15): BatchNorm2d(256, eps=1e-05, momentum=0.1, affine=True, track_running_stats=True)\n",
      "    (16): ReLU(inplace=True)\n",
      "    (17): Conv2d(256, 256, kernel_size=(3, 3), stride=(1, 1), padding=(1, 1))\n",
      "    (18): BatchNorm2d(256, eps=1e-05, momentum=0.1, affine=True, track_running_stats=True)\n",
      "    (19): ReLU(inplace=True)\n",
      "    (20): Conv2d(256, 256, kernel_size=(3, 3), stride=(1, 1), padding=(1, 1))\n",
      "    (21): BatchNorm2d(256, eps=1e-05, momentum=0.1, affine=True, track_running_stats=True)\n",
      "    (22): ReLU(inplace=True)\n",
      "    (23): MaxPool2d(kernel_size=2, stride=2, padding=0, dilation=1, ceil_mode=False)\n",
      "    (24): Conv2d(256, 512, kernel_size=(3, 3), stride=(1, 1), padding=(1, 1))\n",
      "    (25): BatchNorm2d(512, eps=1e-05, momentum=0.1, affine=True, track_running_stats=True)\n",
      "    (26): ReLU(inplace=True)\n",
      "    (27): Conv2d(512, 512, kernel_size=(3, 3), stride=(1, 1), padding=(1, 1))\n",
      "    (28): BatchNorm2d(512, eps=1e-05, momentum=0.1, affine=True, track_running_stats=True)\n",
      "    (29): ReLU(inplace=True)\n",
      "    (30): Conv2d(512, 512, kernel_size=(3, 3), stride=(1, 1), padding=(1, 1))\n",
      "    (31): BatchNorm2d(512, eps=1e-05, momentum=0.1, affine=True, track_running_stats=True)\n",
      "    (32): ReLU(inplace=True)\n",
      "    (33): MaxPool2d(kernel_size=2, stride=2, padding=0, dilation=1, ceil_mode=False)\n",
      "    (34): Conv2d(512, 512, kernel_size=(3, 3), stride=(1, 1), padding=(1, 1))\n",
      "    (35): BatchNorm2d(512, eps=1e-05, momentum=0.1, affine=True, track_running_stats=True)\n",
      "    (36): ReLU(inplace=True)\n",
      "    (37): Conv2d(512, 512, kernel_size=(3, 3), stride=(1, 1), padding=(1, 1))\n",
      "    (38): BatchNorm2d(512, eps=1e-05, momentum=0.1, affine=True, track_running_stats=True)\n",
      "    (39): ReLU(inplace=True)\n",
      "    (40): Conv2d(512, 512, kernel_size=(3, 3), stride=(1, 1), padding=(1, 1))\n",
      "    (41): BatchNorm2d(512, eps=1e-05, momentum=0.1, affine=True, track_running_stats=True)\n",
      "    (42): ReLU(inplace=True)\n",
      "    (43): MaxPool2d(kernel_size=2, stride=2, padding=0, dilation=1, ceil_mode=False)\n",
      "  )\n",
      "  (avgpool): AdaptiveAvgPool2d(output_size=(7, 7))\n",
      "  (classifier): Sequential(\n",
      "    (0): Linear(in_features=25088, out_features=4096, bias=True)\n",
      "    (1): ReLU(inplace=True)\n",
      "    (2): Dropout(p=0.5, inplace=False)\n",
      "    (3): Linear(in_features=4096, out_features=4096, bias=True)\n",
      "    (4): ReLU(inplace=True)\n",
      "    (5): Dropout(p=0.5, inplace=False)\n",
      "    (6): Linear(in_features=4096, out_features=1000, bias=True)\n",
      "  )\n",
      ")\n"
     ]
    }
   ],
   "source": [
    "vgg16=models.vgg16_bn()\n",
    "print(vgg16)"
   ]
  },
  {
   "cell_type": "code",
   "execution_count": 147,
   "metadata": {},
   "outputs": [],
   "source": [
    "# # Creating the classifier for our task\n",
    "\n",
    "# from torch.nn import Linear\n",
    "# from torch.nn import Module\n",
    "\n",
    "# class classifier(Module):\n",
    "#     def __init__(self, baseModel, numclasses, model):\n",
    "#         super().__init__()\n",
    "\n",
    "#         self.baseModel=baseModel\n",
    "\n",
    "#         if model=='vgg':\n",
    "#             self.fc= Linear(baseModel.classifier[6].out_features, numclasses)\n",
    "#         elif model=='resnet':\n",
    "#             self.fc=Linear(baseModel.fc.out_features,numclasses)\n",
    "                           \n",
    "                           \n",
    "# # passing the input via our basemodel to get the features and then passing through the FC layer to get out putput logits\n",
    "#     def forward(self,x):\n",
    "#         features=self.baseModel(x)\n",
    "#         logits=self.fc(features)       \n",
    "#         return logits "
   ]
  },
  {
   "cell_type": "code",
   "execution_count": 148,
   "metadata": {},
   "outputs": [],
   "source": [
    "# # Creating the classifier for our task\n",
    "\n",
    "# from torch.nn import Linear\n",
    "# from torch.nn import Module\n",
    "# from torch.nn import Sequential\n",
    "\n",
    "# class classifier(Module):\n",
    "#     def __init__(self, baseModel, numclasses, model):\n",
    "#         super().__init__()\n",
    "\n",
    "#         self.baseModel=baseModel\n",
    "\n",
    "#         if model=='vgg':\n",
    "#             # num_features=baseModel.classifier[6].in_features\n",
    "#             # features=list(basemodel.classifier.children())[:-1]    #Removing the last layer\n",
    "#             # features.extend([Linear(num_features,numclasses)])     # Adding our new layer with 2 outputs\n",
    "#             # baseModel.classifier=Sequential(*features)             # Replacing the model Claasifier\n",
    "#             # Define additional convolutional layer\n",
    "#             self.conv_layer = Sequential(\n",
    "#                 Conv2d(512, 512, kernel_size=3, padding=1),\n",
    "#                 ReLU(inplace=True)\n",
    "#             )\n",
    "#             self.fc= Linear(baseModel.classifier[6].out_features, numclasses)\n",
    "           \n",
    "#         elif model=='resnet':\n",
    "#             self.fc=Linear(baseModel.fc.out_features,numclasses)\n",
    "                           \n",
    "                           \n",
    "# # passing the input via our basemodel to get the features and then passing through the FC layer to get out putput logits\n",
    "#     def forward(self,x):\n",
    "#             features=self.baseModel(x)\n",
    "#             logits=self.fc(features)       \n",
    "#             return logits "
   ]
  },
  {
   "cell_type": "code",
   "execution_count": 149,
   "metadata": {},
   "outputs": [],
   "source": [
    "# from torch.nn import Linear, Module, Sequential, Conv2d\n",
    "\n",
    "# class Classifier(Module):\n",
    "#     def __init__(self, baseModel, numclasses, model):\n",
    "#         super().__init__()\n",
    "#         self.baseModel = baseModel\n",
    "    \n",
    "#         if model == 'vgg':\n",
    "#             self.conv_layer = Sequential(\n",
    "#                 Conv2d(512, 512, kernel_size=3, padding=1),\n",
    "#                 ReLU(inplace=True))\n",
    "            \n",
    "#             self.fc = Linear(baseModel.classifier[6].out_features, numclasses)\n",
    "#         elif model == 'resnet':\n",
    "#             self.fc = Linear(baseModel.fc.in_features, numclasses)\n",
    "\n",
    "#     def forward(self, x):\n",
    "#         features = self.baseModel(x)\n",
    "#         if hasattr(self, 'conv_layer'):\n",
    "#             features = self.conv_layer(features)\n",
    "#         else:\n",
    "#              # Reshape the output tensor to 4D if it's not already\n",
    "#             features = features.unsqueeze(2).unsqueeze(3)  # Add two dimensions   \n",
    "#         x = features.view(features.size(0), -1)  # Flatten the output\n",
    "#         logits = self.fc(x)\n",
    "#         return logits"
   ]
  },
  {
   "cell_type": "code",
   "execution_count": 150,
   "metadata": {},
   "outputs": [],
   "source": [
    "from torch.nn import Linear, Module, Sequential, Conv2d\n",
    "\n",
    "\n",
    "class Classifier(Module):\n",
    "    def __init__(self, baseModel, numclasses, model):\n",
    "        super().__init__()\n",
    "        self.baseModel = baseModel\n",
    "\n",
    "        if model == 'vgg':\n",
    "            # Extracting the number of input features from the last layer of VGG\n",
    "            num_features = baseModel.classifier[6].out_features\n",
    "            \n",
    "            # Defining the extra layer\n",
    "            self.extra_layer1 = Linear(num_features, 512)  # Assuming 512 output features\n",
    "            self.relu1 = ReLU(inplace=True)\n",
    "            self.extra_layer2=Linear(512,256)\n",
    "            self.relu2=ReLU(inplace=True)\n",
    "            \n",
    "            # Defining the final fully connected layer for classification\n",
    "            self.fc = Linear(256, numclasses)  # Using the output features from the extra layer\n",
    "        elif model=='resnet':\n",
    "            \n",
    "            self.extra_layer=Linear(baseModel.fc.out_features,256)\n",
    "            self.relu=ReLU(inplace=True)\n",
    "\n",
    "            # Defining the final fully connected layer for classification\n",
    "            self.fc=Linear(256,numclasses)\n",
    "\n",
    "        # Softmax layer for classification\n",
    "        self.softmax = Softmax(dim=1)\n",
    "\n",
    "    def forward(self, x):\n",
    "        features = self.baseModel(x)\n",
    "        \n",
    "        # Applying the extra layer and ReLU activation\n",
    "        if 'vgg' in self.baseModel.__class__.__name__.lower():\n",
    "            features = self.extra_layer1(features)\n",
    "            features=self.relu1(features)\n",
    "            features=self.extra_layer2(features)\n",
    "            features = self.relu2(features)\n",
    "\n",
    "        elif 'resnet' in self.baseModel.__class__.__name__.lower():\n",
    "            #Applying the extra layer and ReLu activation\n",
    "            features=self.extra_layer(features)\n",
    "            features=self.relu(features)    \n",
    "        \n",
    "        # Passing the features through the final fully connected layer\n",
    "        logits = self.fc(features)\n",
    "        output=self.softmax(logits)\n",
    "        return output        \n",
    "        "
   ]
  },
  {
   "cell_type": "code",
   "execution_count": 151,
   "metadata": {},
   "outputs": [],
   "source": [
    "# Building the custom model\n",
    "model= Classifier(baseModel=basemodel.to(Device),numclasses=2,model=args[\"model\"])\n",
    "model=model.to(Device)\n",
    "\n",
    "# Initializing loss function and optimizer\n",
    "loss_func= CrossEntropyLoss()\n",
    "loss_func=loss_func.to(Device)\n",
    "optimizer=optim.Adam(model.parameters(), lr=LR)\n",
    "\n",
    "# Initializing the softmax activation layer\n",
    "activation_func= Softmax()"
   ]
  },
  {
   "cell_type": "code",
   "execution_count": 152,
   "metadata": {},
   "outputs": [
    {
     "name": "stdout",
     "output_type": "stream",
     "text": [
      "Classifier(\n",
      "  (baseModel): ResNet(\n",
      "    (conv1): Conv2d(3, 64, kernel_size=(7, 7), stride=(2, 2), padding=(3, 3), bias=False)\n",
      "    (bn1): BatchNorm2d(64, eps=1e-05, momentum=0.1, affine=True, track_running_stats=True)\n",
      "    (relu): ReLU(inplace=True)\n",
      "    (maxpool): MaxPool2d(kernel_size=3, stride=2, padding=1, dilation=1, ceil_mode=False)\n",
      "    (layer1): Sequential(\n",
      "      (0): BasicBlock(\n",
      "        (conv1): Conv2d(64, 64, kernel_size=(3, 3), stride=(1, 1), padding=(1, 1), bias=False)\n",
      "        (bn1): BatchNorm2d(64, eps=1e-05, momentum=0.1, affine=True, track_running_stats=True)\n",
      "        (relu): ReLU(inplace=True)\n",
      "        (conv2): Conv2d(64, 64, kernel_size=(3, 3), stride=(1, 1), padding=(1, 1), bias=False)\n",
      "        (bn2): BatchNorm2d(64, eps=1e-05, momentum=0.1, affine=True, track_running_stats=True)\n",
      "      )\n",
      "      (1): BasicBlock(\n",
      "        (conv1): Conv2d(64, 64, kernel_size=(3, 3), stride=(1, 1), padding=(1, 1), bias=False)\n",
      "        (bn1): BatchNorm2d(64, eps=1e-05, momentum=0.1, affine=True, track_running_stats=True)\n",
      "        (relu): ReLU(inplace=True)\n",
      "        (conv2): Conv2d(64, 64, kernel_size=(3, 3), stride=(1, 1), padding=(1, 1), bias=False)\n",
      "        (bn2): BatchNorm2d(64, eps=1e-05, momentum=0.1, affine=True, track_running_stats=True)\n",
      "      )\n",
      "    )\n",
      "    (layer2): Sequential(\n",
      "      (0): BasicBlock(\n",
      "        (conv1): Conv2d(64, 128, kernel_size=(3, 3), stride=(2, 2), padding=(1, 1), bias=False)\n",
      "        (bn1): BatchNorm2d(128, eps=1e-05, momentum=0.1, affine=True, track_running_stats=True)\n",
      "        (relu): ReLU(inplace=True)\n",
      "        (conv2): Conv2d(128, 128, kernel_size=(3, 3), stride=(1, 1), padding=(1, 1), bias=False)\n",
      "        (bn2): BatchNorm2d(128, eps=1e-05, momentum=0.1, affine=True, track_running_stats=True)\n",
      "        (downsample): Sequential(\n",
      "          (0): Conv2d(64, 128, kernel_size=(1, 1), stride=(2, 2), bias=False)\n",
      "          (1): BatchNorm2d(128, eps=1e-05, momentum=0.1, affine=True, track_running_stats=True)\n",
      "        )\n",
      "      )\n",
      "      (1): BasicBlock(\n",
      "        (conv1): Conv2d(128, 128, kernel_size=(3, 3), stride=(1, 1), padding=(1, 1), bias=False)\n",
      "        (bn1): BatchNorm2d(128, eps=1e-05, momentum=0.1, affine=True, track_running_stats=True)\n",
      "        (relu): ReLU(inplace=True)\n",
      "        (conv2): Conv2d(128, 128, kernel_size=(3, 3), stride=(1, 1), padding=(1, 1), bias=False)\n",
      "        (bn2): BatchNorm2d(128, eps=1e-05, momentum=0.1, affine=True, track_running_stats=True)\n",
      "      )\n",
      "    )\n",
      "    (layer3): Sequential(\n",
      "      (0): BasicBlock(\n",
      "        (conv1): Conv2d(128, 256, kernel_size=(3, 3), stride=(2, 2), padding=(1, 1), bias=False)\n",
      "        (bn1): BatchNorm2d(256, eps=1e-05, momentum=0.1, affine=True, track_running_stats=True)\n",
      "        (relu): ReLU(inplace=True)\n",
      "        (conv2): Conv2d(256, 256, kernel_size=(3, 3), stride=(1, 1), padding=(1, 1), bias=False)\n",
      "        (bn2): BatchNorm2d(256, eps=1e-05, momentum=0.1, affine=True, track_running_stats=True)\n",
      "        (downsample): Sequential(\n",
      "          (0): Conv2d(128, 256, kernel_size=(1, 1), stride=(2, 2), bias=False)\n",
      "          (1): BatchNorm2d(256, eps=1e-05, momentum=0.1, affine=True, track_running_stats=True)\n",
      "        )\n",
      "      )\n",
      "      (1): BasicBlock(\n",
      "        (conv1): Conv2d(256, 256, kernel_size=(3, 3), stride=(1, 1), padding=(1, 1), bias=False)\n",
      "        (bn1): BatchNorm2d(256, eps=1e-05, momentum=0.1, affine=True, track_running_stats=True)\n",
      "        (relu): ReLU(inplace=True)\n",
      "        (conv2): Conv2d(256, 256, kernel_size=(3, 3), stride=(1, 1), padding=(1, 1), bias=False)\n",
      "        (bn2): BatchNorm2d(256, eps=1e-05, momentum=0.1, affine=True, track_running_stats=True)\n",
      "      )\n",
      "    )\n",
      "    (layer4): Sequential(\n",
      "      (0): BasicBlock(\n",
      "        (conv1): Conv2d(256, 512, kernel_size=(3, 3), stride=(2, 2), padding=(1, 1), bias=False)\n",
      "        (bn1): BatchNorm2d(512, eps=1e-05, momentum=0.1, affine=True, track_running_stats=True)\n",
      "        (relu): ReLU(inplace=True)\n",
      "        (conv2): Conv2d(512, 512, kernel_size=(3, 3), stride=(1, 1), padding=(1, 1), bias=False)\n",
      "        (bn2): BatchNorm2d(512, eps=1e-05, momentum=0.1, affine=True, track_running_stats=True)\n",
      "        (downsample): Sequential(\n",
      "          (0): Conv2d(256, 512, kernel_size=(1, 1), stride=(2, 2), bias=False)\n",
      "          (1): BatchNorm2d(512, eps=1e-05, momentum=0.1, affine=True, track_running_stats=True)\n",
      "        )\n",
      "      )\n",
      "      (1): BasicBlock(\n",
      "        (conv1): Conv2d(512, 512, kernel_size=(3, 3), stride=(1, 1), padding=(1, 1), bias=False)\n",
      "        (bn1): BatchNorm2d(512, eps=1e-05, momentum=0.1, affine=True, track_running_stats=True)\n",
      "        (relu): ReLU(inplace=True)\n",
      "        (conv2): Conv2d(512, 512, kernel_size=(3, 3), stride=(1, 1), padding=(1, 1), bias=False)\n",
      "        (bn2): BatchNorm2d(512, eps=1e-05, momentum=0.1, affine=True, track_running_stats=True)\n",
      "      )\n",
      "    )\n",
      "    (avgpool): AdaptiveAvgPool2d(output_size=(1, 1))\n",
      "    (fc): Linear(in_features=512, out_features=1000, bias=True)\n",
      "  )\n",
      "  (extra_layer): Linear(in_features=1000, out_features=256, bias=True)\n",
      "  (relu): ReLU(inplace=True)\n",
      "  (fc): Linear(in_features=256, out_features=2, bias=True)\n",
      "  (softmax): Softmax(dim=1)\n",
      ")\n"
     ]
    }
   ],
   "source": [
    "print(model)"
   ]
  },
  {
   "cell_type": "code",
   "execution_count": 153,
   "metadata": {},
   "outputs": [
    {
     "name": "stdout",
     "output_type": "stream",
     "text": [
      "[INFO] Training the Network\n"
     ]
    },
    {
     "name": "stderr",
     "output_type": "stream",
     "text": [
      "100%|██████████| 60/60 [01:11<00:00,  1.20s/it]\n",
      "100%|██████████| 15/15 [00:14<00:00,  1.02it/s]\n"
     ]
    },
    {
     "name": "stdout",
     "output_type": "stream",
     "text": [
      "[INFO] EPOCH: 1/16\n",
      "Train_loss: 0.5185, Train_Accuracy: 0.627\n",
      "Val_loss: 0.4286, Val_Accuracy: 0.881\n"
     ]
    },
    {
     "name": "stderr",
     "output_type": "stream",
     "text": [
      "100%|██████████| 60/60 [01:07<00:00,  1.12s/it]\n",
      "100%|██████████| 15/15 [00:14<00:00,  1.05it/s]\n"
     ]
    },
    {
     "name": "stdout",
     "output_type": "stream",
     "text": [
      "[INFO] EPOCH: 2/16\n",
      "Train_loss: 0.4194, Train_Accuracy: 0.715\n",
      "Val_loss: 0.3947, Val_Accuracy: 0.921\n"
     ]
    },
    {
     "name": "stderr",
     "output_type": "stream",
     "text": [
      "100%|██████████| 60/60 [01:07<00:00,  1.12s/it]\n",
      "100%|██████████| 15/15 [00:14<00:00,  1.02it/s]\n"
     ]
    },
    {
     "name": "stdout",
     "output_type": "stream",
     "text": [
      "[INFO] EPOCH: 3/16\n",
      "Train_loss: 0.3927, Train_Accuracy: 0.732\n",
      "Val_loss: 0.3760, Val_Accuracy: 0.935\n"
     ]
    },
    {
     "name": "stderr",
     "output_type": "stream",
     "text": [
      "100%|██████████| 60/60 [01:07<00:00,  1.13s/it]\n",
      "100%|██████████| 15/15 [00:14<00:00,  1.03it/s]\n"
     ]
    },
    {
     "name": "stdout",
     "output_type": "stream",
     "text": [
      "[INFO] EPOCH: 4/16\n",
      "Train_loss: 0.3944, Train_Accuracy: 0.732\n",
      "Val_loss: 0.3789, Val_Accuracy: 0.929\n"
     ]
    },
    {
     "name": "stderr",
     "output_type": "stream",
     "text": [
      "100%|██████████| 60/60 [01:07<00:00,  1.13s/it]\n",
      "100%|██████████| 15/15 [00:14<00:00,  1.03it/s]\n"
     ]
    },
    {
     "name": "stdout",
     "output_type": "stream",
     "text": [
      "[INFO] EPOCH: 5/16\n",
      "Train_loss: 0.3926, Train_Accuracy: 0.734\n",
      "Val_loss: 0.3932, Val_Accuracy: 0.919\n"
     ]
    },
    {
     "name": "stderr",
     "output_type": "stream",
     "text": [
      "100%|██████████| 60/60 [01:07<00:00,  1.13s/it]\n",
      "100%|██████████| 15/15 [00:14<00:00,  1.04it/s]\n"
     ]
    },
    {
     "name": "stdout",
     "output_type": "stream",
     "text": [
      "[INFO] EPOCH: 6/16\n",
      "Train_loss: 0.3728, Train_Accuracy: 0.750\n",
      "Val_loss: 0.3583, Val_Accuracy: 0.952\n"
     ]
    },
    {
     "name": "stderr",
     "output_type": "stream",
     "text": [
      "100%|██████████| 60/60 [01:07<00:00,  1.13s/it]\n",
      "100%|██████████| 15/15 [00:14<00:00,  1.03it/s]\n"
     ]
    },
    {
     "name": "stdout",
     "output_type": "stream",
     "text": [
      "[INFO] EPOCH: 7/16\n",
      "Train_loss: 0.3818, Train_Accuracy: 0.740\n",
      "Val_loss: 0.3809, Val_Accuracy: 0.927\n"
     ]
    },
    {
     "name": "stderr",
     "output_type": "stream",
     "text": [
      "100%|██████████| 60/60 [01:07<00:00,  1.13s/it]\n",
      "100%|██████████| 15/15 [00:14<00:00,  1.03it/s]\n"
     ]
    },
    {
     "name": "stdout",
     "output_type": "stream",
     "text": [
      "[INFO] EPOCH: 8/16\n",
      "Train_loss: 0.3726, Train_Accuracy: 0.750\n",
      "Val_loss: 0.3611, Val_Accuracy: 0.954\n"
     ]
    },
    {
     "name": "stderr",
     "output_type": "stream",
     "text": [
      "100%|██████████| 60/60 [01:07<00:00,  1.13s/it]\n",
      "100%|██████████| 15/15 [00:14<00:00,  1.04it/s]\n"
     ]
    },
    {
     "name": "stdout",
     "output_type": "stream",
     "text": [
      "[INFO] EPOCH: 9/16\n",
      "Train_loss: 0.3669, Train_Accuracy: 0.755\n",
      "Val_loss: 0.3633, Val_Accuracy: 0.950\n"
     ]
    },
    {
     "name": "stderr",
     "output_type": "stream",
     "text": [
      "100%|██████████| 60/60 [01:07<00:00,  1.13s/it]\n",
      "100%|██████████| 15/15 [00:14<00:00,  1.03it/s]\n"
     ]
    },
    {
     "name": "stdout",
     "output_type": "stream",
     "text": [
      "[INFO] EPOCH: 10/16\n",
      "Train_loss: 0.3657, Train_Accuracy: 0.756\n",
      "Val_loss: 0.3559, Val_Accuracy: 0.960\n"
     ]
    },
    {
     "name": "stderr",
     "output_type": "stream",
     "text": [
      "100%|██████████| 60/60 [01:07<00:00,  1.13s/it]\n",
      "100%|██████████| 15/15 [00:14<00:00,  1.03it/s]\n"
     ]
    },
    {
     "name": "stdout",
     "output_type": "stream",
     "text": [
      "[INFO] EPOCH: 11/16\n",
      "Train_loss: 0.3629, Train_Accuracy: 0.762\n",
      "Val_loss: 0.3514, Val_Accuracy: 0.962\n"
     ]
    },
    {
     "name": "stderr",
     "output_type": "stream",
     "text": [
      "100%|██████████| 60/60 [01:07<00:00,  1.12s/it]\n",
      "100%|██████████| 15/15 [00:14<00:00,  1.04it/s]\n"
     ]
    },
    {
     "name": "stdout",
     "output_type": "stream",
     "text": [
      "[INFO] EPOCH: 12/16\n",
      "Train_loss: 0.3655, Train_Accuracy: 0.758\n",
      "Val_loss: 0.3530, Val_Accuracy: 0.958\n"
     ]
    },
    {
     "name": "stderr",
     "output_type": "stream",
     "text": [
      "100%|██████████| 60/60 [01:07<00:00,  1.13s/it]\n",
      "100%|██████████| 15/15 [00:14<00:00,  1.03it/s]\n"
     ]
    },
    {
     "name": "stdout",
     "output_type": "stream",
     "text": [
      "[INFO] EPOCH: 13/16\n",
      "Train_loss: 0.3627, Train_Accuracy: 0.761\n",
      "Val_loss: 0.3548, Val_Accuracy: 0.960\n"
     ]
    },
    {
     "name": "stderr",
     "output_type": "stream",
     "text": [
      "100%|██████████| 60/60 [01:07<00:00,  1.13s/it]\n",
      "100%|██████████| 15/15 [00:14<00:00,  1.02it/s]\n"
     ]
    },
    {
     "name": "stdout",
     "output_type": "stream",
     "text": [
      "[INFO] EPOCH: 14/16\n",
      "Train_loss: 0.3645, Train_Accuracy: 0.758\n",
      "Val_loss: 0.3571, Val_Accuracy: 0.952\n"
     ]
    },
    {
     "name": "stderr",
     "output_type": "stream",
     "text": [
      "100%|██████████| 60/60 [01:07<00:00,  1.13s/it]\n",
      "100%|██████████| 15/15 [00:14<00:00,  1.03it/s]\n"
     ]
    },
    {
     "name": "stdout",
     "output_type": "stream",
     "text": [
      "[INFO] EPOCH: 15/16\n",
      "Train_loss: 0.3700, Train_Accuracy: 0.751\n",
      "Val_loss: 0.3496, Val_Accuracy: 0.962\n"
     ]
    },
    {
     "name": "stderr",
     "output_type": "stream",
     "text": [
      "100%|██████████| 60/60 [01:07<00:00,  1.13s/it]\n",
      "100%|██████████| 15/15 [00:14<00:00,  1.03it/s]"
     ]
    },
    {
     "name": "stdout",
     "output_type": "stream",
     "text": [
      "[INFO] EPOCH: 16/16\n",
      "Train_loss: 0.3672, Train_Accuracy: 0.756\n",
      "Val_loss: 0.3461, Val_Accuracy: 0.967\n"
     ]
    },
    {
     "name": "stderr",
     "output_type": "stream",
     "text": [
      "\n"
     ]
    }
   ],
   "source": [
    "# Setting up the training epoch \n",
    "print(\"[INFO] Training the Network\")\n",
    "\n",
    "for e in range(EPOCHS):\n",
    "    model.train()\n",
    "    \n",
    "    total_train_loss=0 # initializing the loss and accuracy metrics\n",
    "    train_correct=0\n",
    "\n",
    "    total_val_loss=0\n",
    "    val_correct=0\n",
    "\n",
    "#looping over training set and sending to device:\n",
    "    for (image,targets) in tqdm(train_laoder):\n",
    "        (image, targets)=image.to(Device), targets.to(Device)\n",
    "                 \n",
    "        #logits=model(image)   \n",
    "        logits=model(image)                                            #performing forward pass and calculating loss\n",
    "        loss= loss_func(logits,targets)\n",
    "        optimizer.zero_grad()                                             #Zeroing out the gradient \n",
    "        loss.backward()                                                   #Back propogation    \n",
    "        optimizer.step()                                                  #updating the weights\n",
    "\n",
    "        total_train_loss += loss.item()                                   # Adding loss to the total loss training\n",
    "\n",
    "        #pred=activation_func(logits)\n",
    "        pred=logits                                      # Pass the logits via Softmax functions to obtain predictions\n",
    "\n",
    "        train_correct += (pred.argmax(dim=-1)== targets).sum().item()     # Calculating the total number of correct predictionsq        \n",
    "\n",
    "\n",
    "# Evaluating val dataset\n",
    "    \n",
    "    #Swithching off autograd and setting it to eval mode.\n",
    "    with torch.no_grad():\n",
    "        model.eval()\n",
    "\n",
    "        for (image,targets) in tqdm(val_loader):\n",
    "            (image, targets)= image.to(Device),targets.to(Device)\n",
    "\n",
    "            #logits=model(image)\n",
    "            logits=model(image) \n",
    "            loss=loss_func(logits, targets)\n",
    "            total_val_loss += loss.item()\n",
    "\n",
    "            #pred=activation_func(logits)\n",
    "            pred=logits\n",
    "            val_correct += (pred.argmax(dim=-1)==targets).sum().item()\n",
    "\n",
    "\n",
    "    # Calculating Avg. loss and accuracy\n",
    "\n",
    "    Avg_train_Loss= total_train_loss/ train_step\n",
    "    Avg_val_loss= total_val_loss /val_step\n",
    "        \n",
    "    train_correct=train_correct/len(train_dataset)\n",
    "    val_correct=val_correct/len(ValDataset)\n",
    "\n",
    "    #Updating training history\n",
    "    Train_Val_Hist[\"train_loss\"].append(Avg_train_Loss)\n",
    "    Train_Val_Hist[\"train_acc\"].append(train_correct)\n",
    "    Train_Val_Hist[\"val_loss\"].append(Avg_val_loss)\n",
    "    Train_Val_Hist[\"val_acc\"].append(val_correct)\n",
    "    \n",
    "    # Printing training and validation info        \n",
    "\n",
    "    print(f\"[INFO] EPOCH: {e+1}/{EPOCHS}\")\n",
    "    print(f\"Train_loss: {Avg_train_Loss:.4f}, Train_Accuracy: {train_correct:.3f}\")\n",
    "    print(f\"Val_loss: {Avg_val_loss:.4f}, Val_Accuracy: {val_correct:.3f}\")\n"
   ]
  },
  {
   "cell_type": "code",
   "execution_count": 154,
   "metadata": {},
   "outputs": [
    {
     "data": {
      "image/png": "[encoded data removed]",
      "text/plain": [
       "<Figure size 640x480 with 1 Axes>"
      ]
     },
     "metadata": {},
     "output_type": "display_data"
    }
   ],
   "source": [
    "%matplotlib inline\n",
    "\n",
    "plt.style.use(\"ggplot\")\n",
    "plt.figure()\n",
    "plt.title(\"Loss/Acc vs Epoch of Training and Validation set\")\n",
    "\n",
    "plt.plot(Train_Val_Hist[\"train_loss\"],label=\"Train_loss\")\n",
    "plt.plot(Train_Val_Hist[\"train_acc\"],label=\"Train_Acc\")\n",
    "plt.plot(Train_Val_Hist[\"val_loss\"],label=\"Val_loss\")\n",
    "plt.plot(Train_Val_Hist[\"val_acc\"],label=\"Val_acc\")\n",
    "\n",
    "plt.xlabel(\"Epochs\")\n",
    "plt.ylabel(\"Loss and Accuracy\")\n",
    "plt.legend(loc=\"best\")\n",
    "\n",
    "plt.show()\n"
   ]
  },
  {
   "cell_type": "code",
   "execution_count": 155,
   "metadata": {},
   "outputs": [],
   "source": [
    "if args['model']=='vgg':\n",
    "    torch.save(model.state_dict(), VGG_Model_path)\n",
    "elif args['model']=='resnet':\n",
    "    torch.save(model.state_dict(), RESNET_Model_path)    "
   ]
  }
 ],
 "metadata": {
  "kernelspec": {
   "display_name": "base",
   "language": "python",
   "name": "python3"
  },
  "language_info": {
   "codemirror_mode": {
    "name": "ipython",
    "version": 3
   },
   "file_extension": ".py",
   "mimetype": "text/x-python",
   "name": "python",
   "nbconvert_exporter": "python",
   "pygments_lexer": "ipython3",
   "version": "3.11.5"
  }
 },
 "nbformat": 4,
 "nbformat_minor": 2
}
