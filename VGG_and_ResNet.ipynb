{
 "cells": [
  {
   "cell_type": "code",
   "execution_count": 1,
   "metadata": {},
   "outputs": [],
   "source": [
    "# Importing packages\n",
    "import torch\n",
    "import os \n",
    "\n",
    "# Defining training and testing paths\n",
    "training_path=r\"C:\\Users\\97158\\Desktop\\Apziva\\Project 4-MonReader\\images\\training\"\n",
    "testing_path=r\"C:\\Users\\97158\\Desktop\\Apziva\\Project 4-MonReader\\images\\testing\"  "
   ]
  },
  {
   "cell_type": "code",
   "execution_count": 2,
   "metadata": {},
   "outputs": [],
   "source": [
    "# Specifying mean and SD from imagenet dataset statistics\n",
    "Mean= [0.485, 0.456, 0.406]\n",
    "STD= [0.229, 0.224, 0.225]\n",
    "\n",
    "# Specifying training hyperparameters\n",
    "Image_size=256\n",
    "Batch_size= 128\n",
    "Pred_batch_size= 4\n",
    "EPOCHS=21\n",
    "LR=0.0001\n",
    "\n",
    "# Determining the device type\n",
    "Device= torch.device(\"cuda\") if torch.cuda.is_available() else \"cpu\""
   ]
  },
  {
   "cell_type": "code",
   "execution_count": 28,
   "metadata": {},
   "outputs": [],
   "source": [
    "# Creating the directory if it doesn't exist\n",
    "os.makedirs(\"model_output\", exist_ok=True)\n",
    "\n",
    "# Defining paths to store trained model\n",
    "Model_path= os.path.join(\"model_output\",\"model.pth\")"
   ]
  },
  {
   "cell_type": "markdown",
   "metadata": {},
   "source": [
    "Training our Classifier\n"
   ]
  },
  {
   "cell_type": "code",
   "execution_count": 16,
   "metadata": {},
   "outputs": [],
   "source": [
    "# Importing all the packages\n",
    "\n",
    "import torch\n",
    "from torchvision.datasets import ImageFolder\n",
    "from torchvision.transforms import Compose\n",
    "from torchvision.transforms import ToTensor\n",
    "from torchvision.transforms import RandomResizedCrop\n",
    "from torchvision.transforms import RandomHorizontalFlip\n",
    "from torchvision.transforms import RandomRotation\n",
    "from torchvision.transforms import Normalize\n",
    "from torchvision.transforms import Resize\n",
    "from torchvision.transforms import transforms\n",
    "from torch.nn import CrossEntropyLoss\n",
    "from torch.nn import Softmax\n",
    "from torch import optim\n",
    "from tqdm import tqdm\n",
    "from matplotlib import pyplot as plt \n",
    "import argparse\n"
   ]
  },
  {
   "cell_type": "code",
   "execution_count": 4,
   "metadata": {},
   "outputs": [],
   "source": [
    "# Constructing an argument parser to choose between models from the command line\n",
    "\n",
    "import sys\n",
    "sys.argv=['']\n",
    "del sys\n",
    "\n",
    "ap=argparse.ArgumentParser()\n",
    "ap.add_argument('-m','--model',type=str,default='vgg', choices=['vgg','resnet'],\n",
    "                help='Name of the model')\n",
    "args=vars(ap.parse_args())\n"
   ]
  },
  {
   "cell_type": "code",
   "execution_count": 5,
   "metadata": {},
   "outputs": [
    {
     "name": "stderr",
     "output_type": "stream",
     "text": [
      "Using cache found in C:\\Users\\97158/.cache\\torch\\hub\\pytorch_vision_v0.10.0\n"
     ]
    }
   ],
   "source": [
    "if args['model']=='vgg':\n",
    "    basemodel=torch.hub.load('pytorch/vision:v0.10.0','vgg11',weights='VGG11_Weights.DEFAULT', skip_validation=True)\n",
    "\n",
    "    for param in basemodel.parameters():\n",
    "        param.requires_grad=False\n",
    "elif args['model']=='resnet':\n",
    "    basemodel=torch.hub.load('pytorch/vision:v0.10.0','resnet18',weights='ResNet18_Weights.DEFAULT', skip_validation=True)\n",
    "\n",
    "    lastLayer=8\n",
    "    currentLayer=1\n",
    "\n",
    "    #Looping over the child layers of the model\n",
    "    for child in basemodel.children():\n",
    "\n",
    "        if currentLayer<lastLayer:\n",
    "            for param in child.parameters():\n",
    "                param.requires_grad=False\n",
    "        else:\n",
    "            break\n",
    "        currentLayer+=1"
   ]
  },
  {
   "cell_type": "code",
   "execution_count": 6,
   "metadata": {},
   "outputs": [],
   "source": [
    "# Defining the tranform pipeline\n",
    "\n",
    "# Create training dataset using Imagefolder\n",
    "trainTransform=Compose([\n",
    "    RandomResizedCrop(Image_size),\n",
    "    RandomHorizontalFlip(),\n",
    "    RandomRotation(90),\n",
    "    ToTensor(),\n",
    "    Normalize(Mean, STD)\n",
    "])\n",
    "\n",
    "# Creating training dataset using Imagefolder\n",
    "train_dataset=ImageFolder(training_path,trainTransform)"
   ]
  },
  {
   "cell_type": "code",
   "execution_count": 7,
   "metadata": {},
   "outputs": [],
   "source": [
    "# Importing the necessary packages\n",
    "from sklearn.model_selection import train_test_split\n",
    "from torch.utils.data import DataLoader\n",
    "from torch.utils.data import Subset\n",
    "\n",
    "# Defining the dataloader function\n",
    "def get_Dataloader(Dataset, Batch_size, shuffle=True):\n",
    "    dl=DataLoader(Dataset,Batch_size,shuffle=shuffle)\n",
    "    return dl\n",
    "# Train_Val Dataset Splitter\n",
    "\n",
    "def train_val_split(Dataset, val_split=0.2):\n",
    "\n",
    "    total_size=len(Dataset)\n",
    "    (train_idx, val_idx)= train_test_split(list(range(total_size)),test_size=val_split)\n",
    "\n",
    "    train_set=Subset(Dataset,train_idx)\n",
    "    test_set=Subset(Dataset,val_idx)\n",
    "\n",
    "    return train_set,test_set"
   ]
  },
  {
   "cell_type": "code",
   "execution_count": 8,
   "metadata": {},
   "outputs": [],
   "source": [
    "# Creating training and validation split\n",
    "(TrainDataset, ValDataset)= train_val_split(Dataset=train_dataset)\n",
    "\n",
    "# Creating training and validation data loaders\n",
    "train_laoder=get_Dataloader(Dataset=TrainDataset, Batch_size=Batch_size)\n",
    "val_loader=get_Dataloader(Dataset=ValDataset, Batch_size=Batch_size)"
   ]
  },
  {
   "cell_type": "code",
   "execution_count": 9,
   "metadata": {},
   "outputs": [
    {
     "name": "stdout",
     "output_type": "stream",
     "text": [
      "Train_Step: 14.95\n",
      "Val_step: 3.74\n"
     ]
    }
   ],
   "source": [
    "# Calculating Steps per epoch for training and validation set\n",
    "train_step= len(TrainDataset)/Batch_size\n",
    "val_step= len(ValDataset)/Batch_size\n",
    "\n",
    "print(\"Train_Step: {:.2f}\\nVal_step: {:.2f}\".format(train_step, val_step))\n",
    "\n",
    "#Initializing the results directory to store history for plotting\n",
    "Train_Val_Hist={\n",
    "    \"train_loss\":[],\n",
    "    \"train_acc\":[],\n",
    "    \"val_loss\":[],\n",
    "    \"val_acc\":[]}"
   ]
  },
  {
   "cell_type": "code",
   "execution_count": 37,
   "metadata": {},
   "outputs": [],
   "source": [
    "# Creating the classifier for our task\n",
    "\n",
    "from torch.nn import Linear\n",
    "from torch.nn import Module\n",
    "\n",
    "class classifier(Module):\n",
    "    def __init__(self, baseModel, numclasses, model):\n",
    "        super().__init__()\n",
    "\n",
    "        self.baseModel=baseModel\n",
    "\n",
    "        if model=='vgg':\n",
    "            self.fc= Linear(baseModel.classifier[6].out_features, numclasses)\n",
    "        elif model=='resnet':\n",
    "            self.fc=Linear(baseModel.fc.out_features,numclasses)\n",
    "                           \n",
    "                           \n",
    "# passing the input via our basemodel to get the features and then passing through the FC layer to get out putput logits\n",
    "    def forward(self,x):\n",
    "        features=self.baseModel(x)\n",
    "        logits=self.fc(features)       \n",
    "        return logits "
   ]
  },
  {
   "cell_type": "code",
   "execution_count": 11,
   "metadata": {},
   "outputs": [],
   "source": [
    "# Building the custom model\n",
    "model= classifier(baseModel=basemodel.to(Device),numclasses=2,model=args[\"model\"])\n",
    "model=model.to(Device)\n",
    "\n",
    "# Initializing loss function and optimizer\n",
    "loss_func= CrossEntropyLoss()\n",
    "loss_func=loss_func.to(Device)\n",
    "optimizer=optim.Adam(model.parameters(), lr=LR)\n",
    "\n",
    "# Initializing the softmax activation layer\n",
    "activation_func=Softmax()"
   ]
  },
  {
   "cell_type": "code",
   "execution_count": 12,
   "metadata": {},
   "outputs": [
    {
     "name": "stdout",
     "output_type": "stream",
     "text": [
      "[INFO] Training the Network\n"
     ]
    },
    {
     "name": "stderr",
     "output_type": "stream",
     "text": [
      "  0%|          | 0/15 [00:00<?, ?it/s]c:\\Users\\97158\\anaconda3\\Lib\\site-packages\\torch\\nn\\modules\\module.py:1518: UserWarning: Implicit dimension choice for softmax has been deprecated. Change the call to include dim=X as an argument.\n",
      "  return self._call_impl(*args, **kwargs)\n",
      "100%|██████████| 15/15 [02:59<00:00, 11.98s/it]\n",
      "100%|██████████| 4/4 [00:46<00:00, 11.66s/it]\n"
     ]
    },
    {
     "name": "stdout",
     "output_type": "stream",
     "text": [
      "[INFO] EPOCH: 1/15\n",
      "Train_loss: 0.8007, Train_Accuracy: 0.421\n",
      "Val_loss: 0.7608, Val_Accuracy: 0.539\n"
     ]
    },
    {
     "name": "stderr",
     "output_type": "stream",
     "text": [
      "100%|██████████| 15/15 [02:44<00:00, 10.99s/it]\n",
      "100%|██████████| 4/4 [00:40<00:00, 10.16s/it]\n"
     ]
    },
    {
     "name": "stdout",
     "output_type": "stream",
     "text": [
      "[INFO] EPOCH: 2/15\n",
      "Train_loss: 0.7649, Train_Accuracy: 0.430\n",
      "Val_loss: 0.7693, Val_Accuracy: 0.491\n"
     ]
    },
    {
     "name": "stderr",
     "output_type": "stream",
     "text": [
      "100%|██████████| 15/15 [02:41<00:00, 10.80s/it]\n",
      "100%|██████████| 4/4 [00:40<00:00, 10.07s/it]\n"
     ]
    },
    {
     "name": "stdout",
     "output_type": "stream",
     "text": [
      "[INFO] EPOCH: 3/15\n",
      "Train_loss: 0.7362, Train_Accuracy: 0.452\n",
      "Val_loss: 0.7607, Val_Accuracy: 0.528\n"
     ]
    },
    {
     "name": "stderr",
     "output_type": "stream",
     "text": [
      "100%|██████████| 15/15 [02:44<00:00, 10.94s/it]\n",
      "100%|██████████| 4/4 [00:40<00:00, 10.10s/it]\n"
     ]
    },
    {
     "name": "stdout",
     "output_type": "stream",
     "text": [
      "[INFO] EPOCH: 4/15\n",
      "Train_loss: 0.7303, Train_Accuracy: 0.441\n",
      "Val_loss: 0.7239, Val_Accuracy: 0.585\n"
     ]
    },
    {
     "name": "stderr",
     "output_type": "stream",
     "text": [
      "100%|██████████| 15/15 [02:41<00:00, 10.77s/it]\n",
      "100%|██████████| 4/4 [00:40<00:00, 10.13s/it]\n"
     ]
    },
    {
     "name": "stdout",
     "output_type": "stream",
     "text": [
      "[INFO] EPOCH: 5/15\n",
      "Train_loss: 0.7046, Train_Accuracy: 0.458\n",
      "Val_loss: 0.7052, Val_Accuracy: 0.614\n"
     ]
    },
    {
     "name": "stderr",
     "output_type": "stream",
     "text": [
      "100%|██████████| 15/15 [02:39<00:00, 10.65s/it]\n",
      "100%|██████████| 4/4 [00:42<00:00, 10.65s/it]\n"
     ]
    },
    {
     "name": "stdout",
     "output_type": "stream",
     "text": [
      "[INFO] EPOCH: 6/15\n",
      "Train_loss: 0.6949, Train_Accuracy: 0.463\n",
      "Val_loss: 0.7085, Val_Accuracy: 0.628\n"
     ]
    },
    {
     "name": "stderr",
     "output_type": "stream",
     "text": [
      "100%|██████████| 15/15 [02:05<00:00,  8.36s/it]\n",
      "100%|██████████| 4/4 [00:30<00:00,  7.55s/it]\n"
     ]
    },
    {
     "name": "stdout",
     "output_type": "stream",
     "text": [
      "[INFO] EPOCH: 7/15\n",
      "Train_loss: 0.6881, Train_Accuracy: 0.462\n",
      "Val_loss: 0.7119, Val_Accuracy: 0.576\n"
     ]
    },
    {
     "name": "stderr",
     "output_type": "stream",
     "text": [
      "100%|██████████| 15/15 [02:01<00:00,  8.10s/it]\n",
      "100%|██████████| 4/4 [00:30<00:00,  7.55s/it]\n"
     ]
    },
    {
     "name": "stdout",
     "output_type": "stream",
     "text": [
      "[INFO] EPOCH: 8/15\n",
      "Train_loss: 0.6672, Train_Accuracy: 0.475\n",
      "Val_loss: 0.7383, Val_Accuracy: 0.568\n"
     ]
    },
    {
     "name": "stderr",
     "output_type": "stream",
     "text": [
      "100%|██████████| 15/15 [02:02<00:00,  8.17s/it]\n",
      "100%|██████████| 4/4 [00:30<00:00,  7.63s/it]\n"
     ]
    },
    {
     "name": "stdout",
     "output_type": "stream",
     "text": [
      "[INFO] EPOCH: 9/15\n",
      "Train_loss: 0.6929, Train_Accuracy: 0.460\n",
      "Val_loss: 0.6918, Val_Accuracy: 0.618\n"
     ]
    },
    {
     "name": "stderr",
     "output_type": "stream",
     "text": [
      "100%|██████████| 15/15 [02:30<00:00, 10.04s/it]\n",
      "100%|██████████| 4/4 [00:43<00:00, 10.85s/it]\n"
     ]
    },
    {
     "name": "stdout",
     "output_type": "stream",
     "text": [
      "[INFO] EPOCH: 10/15\n",
      "Train_loss: 0.6710, Train_Accuracy: 0.485\n",
      "Val_loss: 0.7087, Val_Accuracy: 0.597\n"
     ]
    },
    {
     "name": "stderr",
     "output_type": "stream",
     "text": [
      "100%|██████████| 15/15 [02:48<00:00, 11.26s/it]\n",
      "100%|██████████| 4/4 [00:41<00:00, 10.34s/it]\n"
     ]
    },
    {
     "name": "stdout",
     "output_type": "stream",
     "text": [
      "[INFO] EPOCH: 11/15\n",
      "Train_loss: 0.6670, Train_Accuracy: 0.485\n",
      "Val_loss: 0.6855, Val_Accuracy: 0.630\n"
     ]
    },
    {
     "name": "stderr",
     "output_type": "stream",
     "text": [
      "100%|██████████| 15/15 [02:42<00:00, 10.86s/it]\n",
      "100%|██████████| 4/4 [00:41<00:00, 10.26s/it]\n"
     ]
    },
    {
     "name": "stdout",
     "output_type": "stream",
     "text": [
      "[INFO] EPOCH: 12/15\n",
      "Train_loss: 0.6691, Train_Accuracy: 0.477\n",
      "Val_loss: 0.6895, Val_Accuracy: 0.647\n"
     ]
    },
    {
     "name": "stderr",
     "output_type": "stream",
     "text": [
      "100%|██████████| 15/15 [02:43<00:00, 10.87s/it]\n",
      "100%|██████████| 4/4 [00:40<00:00, 10.15s/it]\n"
     ]
    },
    {
     "name": "stdout",
     "output_type": "stream",
     "text": [
      "[INFO] EPOCH: 13/15\n",
      "Train_loss: 0.6714, Train_Accuracy: 0.482\n",
      "Val_loss: 0.6763, Val_Accuracy: 0.630\n"
     ]
    },
    {
     "name": "stderr",
     "output_type": "stream",
     "text": [
      "100%|██████████| 15/15 [02:42<00:00, 10.86s/it]\n",
      "100%|██████████| 4/4 [00:42<00:00, 10.60s/it]\n"
     ]
    },
    {
     "name": "stdout",
     "output_type": "stream",
     "text": [
      "[INFO] EPOCH: 14/15\n",
      "Train_loss: 0.6586, Train_Accuracy: 0.490\n",
      "Val_loss: 0.6851, Val_Accuracy: 0.624\n"
     ]
    },
    {
     "name": "stderr",
     "output_type": "stream",
     "text": [
      "100%|██████████| 15/15 [02:50<00:00, 11.39s/it]\n",
      "100%|██████████| 4/4 [00:43<00:00, 10.77s/it]"
     ]
    },
    {
     "name": "stdout",
     "output_type": "stream",
     "text": [
      "[INFO] EPOCH: 15/15\n",
      "Train_loss: 0.6546, Train_Accuracy: 0.494\n",
      "Val_loss: 0.6903, Val_Accuracy: 0.624\n"
     ]
    },
    {
     "name": "stderr",
     "output_type": "stream",
     "text": [
      "\n"
     ]
    }
   ],
   "source": [
    "# Setting up the training epoch \n",
    "print(\"[INFO] Training the Network\")\n",
    "\n",
    "for e in range(EPOCHS):\n",
    "    model.train()\n",
    "    \n",
    "    total_train_loss=0 # initializing the loss and accuracy metrics\n",
    "    train_correct=0\n",
    "\n",
    "    total_val_loss=0\n",
    "    val_correct=0\n",
    "\n",
    "#looping over training set and sending to device:\n",
    "    for (image,targets) in tqdm(train_laoder):\n",
    "        (image, targets)=image.to(Device), targets.to(Device)\n",
    "                 \n",
    "        logits=model(image)                                               #performing forward pass and calculating loss\n",
    "        loss= loss_func(logits,targets)\n",
    "        optimizer.zero_grad()                                             #Zeroing out the gradient \n",
    "        loss.backward()                                                   #Back propogation    \n",
    "        optimizer.step()                                                  #updating the weights\n",
    "\n",
    "        total_train_loss += loss.item()                                   # Adding loss to the total loss training\n",
    "\n",
    "        pred=activation_func(logits)                                      # Pass the logits via Softmax functions to obtain predictions\n",
    "\n",
    "        train_correct += (pred.argmax(dim=-1)== targets).sum().item()     # Calculating the total number of correct predictionsq        \n",
    "\n",
    "\n",
    "# Evaluating val dataset\n",
    "    \n",
    "    #Swithching off autograd and setting it to eval mode.\n",
    "    with torch.no_grad():\n",
    "        model.eval()\n",
    "\n",
    "        for (image,targets) in tqdm(val_loader):\n",
    "            (image, targets)= image.to(Device),targets.to(Device)\n",
    "\n",
    "            logits=model(image)\n",
    "            loss=loss_func(logits, targets)\n",
    "            total_val_loss += loss.item()\n",
    "\n",
    "            pred=activation_func(logits)\n",
    "            val_correct += (pred.argmax(dim=-1)==targets).sum().item()\n",
    "\n",
    "\n",
    "    # Calculating Avg. loss and accuracy\n",
    "\n",
    "    Avg_train_Loss= total_train_loss/ train_step\n",
    "    Avg_val_loss= total_val_loss /val_step\n",
    "        \n",
    "    train_correct=train_correct/len(train_dataset)\n",
    "    val_correct=val_correct/len(ValDataset)\n",
    "\n",
    "    #Updating training history\n",
    "    Train_Val_Hist[\"train_loss\"].append(Avg_train_Loss)\n",
    "    Train_Val_Hist[\"train_acc\"].append(train_correct)\n",
    "    Train_Val_Hist[\"val_loss\"].append(Avg_val_loss)\n",
    "    Train_Val_Hist[\"val_acc\"].append(val_correct)\n",
    "    \n",
    "    # Printing training and validation info        \n",
    "\n",
    "    print(f\"[INFO] EPOCH: {e+1}/{EPOCHS}\")\n",
    "    print(f\"Train_loss: {Avg_train_Loss:.4f}, Train_Accuracy: {train_correct:.3f}\")\n",
    "    print(f\"Val_loss: {Avg_val_loss:.4f}, Val_Accuracy: {val_correct:.3f}\")\n"
   ]
  },
  {
   "cell_type": "code",
   "execution_count": 13,
   "metadata": {},
   "outputs": [
    {
     "data": {
      "image/png": "[encoded data removed]",
      "text/plain": [
       "<Figure size 640x480 with 1 Axes>"
      ]
     },
     "metadata": {},
     "output_type": "display_data"
    }
   ],
   "source": [
    "%matplotlib inline\n",
    "\n",
    "plt.style.use(\"ggplot\")\n",
    "plt.figure()\n",
    "plt.title(\"Loss/Acc vs Epoch of Training and Validation set\")\n",
    "\n",
    "plt.plot(Train_Val_Hist[\"train_loss\"],label=\"Train_loss\")\n",
    "plt.plot(Train_Val_Hist[\"train_acc\"],label=\"Train_Acc\")\n",
    "plt.plot(Train_Val_Hist[\"val_loss\"],label=\"Val_loss\")\n",
    "plt.plot(Train_Val_Hist[\"val_acc\"],label=\"Val_acc\")\n",
    "\n",
    "plt.xlabel(\"Epochs\")\n",
    "plt.ylabel(\"Loss and Accuracy\")\n",
    "plt.legend(loc=\"best\")\n",
    "\n",
    "plt.show()\n",
    "torch.save(model.module.state_dict(), Model_path)"
   ]
  },
  {
   "cell_type": "code",
   "execution_count": null,
   "metadata": {},
   "outputs": [],
   "source": [
    "torch.save(model.state_dict(), Model_path)"
   ]
  },
  {
   "cell_type": "markdown",
   "metadata": {},
   "source": [
    "Testing our Classifier"
   ]
  },
  {
   "cell_type": "code",
   "execution_count": 56,
   "metadata": {},
   "outputs": [],
   "source": [
    "testTransform=Compose([\n",
    "    Resize(Image_size),\n",
    "    ToTensor(),\n",
    "    Normalize(mean=Mean,std=STD)\n",
    "])\n",
    "\n",
    "# Calculating inverse mean and STD\n",
    "invMean=[1/m for m in Mean]\n",
    "invSTD= [1/s for s in STD]\n",
    "\n",
    "# Defining our denormalizing transform\n",
    "deNormalize= transforms.Normalize(mean=invMean, std=invSTD)\n",
    "\n",
    "#Creating test Dataset\n",
    "testDataset=ImageFolder(testing_path,testTransform)\n",
    "\n",
    "# Initializing the test dataset\n",
    "testLoader= get_Dataloader(testDataset,Batch_size=Batch_size)\n"
   ]
  },
  {
   "cell_type": "code",
   "execution_count": 57,
   "metadata": {},
   "outputs": [
    {
     "name": "stderr",
     "output_type": "stream",
     "text": [
      "Using cache found in C:\\Users\\97158/.cache\\torch\\hub\\pytorch_vision_v0.10.0\n"
     ]
    },
    {
     "ename": "TypeError",
     "evalue": "'classifier' object is not subscriptable",
     "output_type": "error",
     "traceback": [
      "\u001b[1;31m---------------------------------------------------------------------------\u001b[0m",
      "\u001b[1;31mTypeError\u001b[0m                                 Traceback (most recent call last)",
      "Cell \u001b[1;32mIn[57], line 23\u001b[0m\n\u001b[0;32m      7\u001b[0m resnet_model\u001b[38;5;241m=\u001b[39m torch\u001b[38;5;241m.\u001b[39mhub\u001b[38;5;241m.\u001b[39mload(\u001b[38;5;124m'\u001b[39m\u001b[38;5;124mpytorch/vision:v0.10.0\u001b[39m\u001b[38;5;124m'\u001b[39m,\u001b[38;5;124m'\u001b[39m\u001b[38;5;124mresnet18\u001b[39m\u001b[38;5;124m'\u001b[39m,weights\u001b[38;5;241m=\u001b[39m\u001b[38;5;28;01mNone\u001b[39;00m, skip_validation\u001b[38;5;241m=\u001b[39m\u001b[38;5;28;01mTrue\u001b[39;00m)\n\u001b[0;32m      9\u001b[0m \u001b[38;5;66;03m#resnet18 = models.resnet18(pretrained=False)\u001b[39;00m\n\u001b[0;32m     10\u001b[0m \n\u001b[0;32m     11\u001b[0m \u001b[38;5;66;03m# Transfer the weights from VGG16 to ResNet18\u001b[39;00m\n\u001b[1;32m   (...)\u001b[0m\n\u001b[0;32m     20\u001b[0m \u001b[38;5;66;03m# for vgg_param, resnet_param in zip(model.parameters(), resnet_model.parameters()):\u001b[39;00m\n\u001b[0;32m     21\u001b[0m \u001b[38;5;66;03m#     resnet_param.data.copy_(vgg_param.data)\u001b[39;00m\n\u001b[1;32m---> 23\u001b[0m vgg_fc_weight \u001b[38;5;241m=\u001b[39m model[\u001b[38;5;124m'\u001b[39m\u001b[38;5;124mfc.weight\u001b[39m\u001b[38;5;124m'\u001b[39m]\n\u001b[0;32m     24\u001b[0m vgg_fc_bias \u001b[38;5;241m=\u001b[39m model[\u001b[38;5;124m'\u001b[39m\u001b[38;5;124mfc.bias\u001b[39m\u001b[38;5;124m'\u001b[39m]\n\u001b[0;32m     25\u001b[0m resnet_model\u001b[38;5;241m.\u001b[39mfc\u001b[38;5;241m.\u001b[39mweight\u001b[38;5;241m.\u001b[39mdata\u001b[38;5;241m.\u001b[39mcopy_(vgg_fc_weight)\n",
      "\u001b[1;31mTypeError\u001b[0m: 'classifier' object is not subscriptable"
     ]
    }
   ],
   "source": [
    "#vgg16_path = Model_path\n",
    "\n",
    "# Load the trained weights of the VGG16 model\n",
    "#model.load_state_dict(torch.load(vgg16_path))\n",
    "\n",
    "# Initialize the ResNet18 model\n",
    "resnet_model= torch.hub.load('pytorch/vision:v0.10.0','resnet18',weights=None, skip_validation=True)\n",
    "\n",
    "#resnet18 = models.resnet18(pretrained=False)\n",
    "\n",
    "# Transfer the weights from VGG16 to ResNet18\n",
    "# Assuming the layers to transfer have similar names in both models\n",
    "# for vgg_layer, resnet_layer in zip(model.children(), resnet_model.children()):\n",
    "#     if hasattr(vgg_layer, \"weight\") and hasattr(resnet_layer, \"weight\"):\n",
    "#         resnet_layer.weight.data = vgg_layer.weight.data\n",
    "#         if hasattr(vgg_layer, \"bias\") and hasattr(resnet_layer, \"bias\"):\n",
    "#             resnet_layer.bias.data = vgg_layer.bias.data\n",
    "\n",
    "\n",
    "# for vgg_param, resnet_param in zip(model.parameters(), resnet_model.parameters()):\n",
    "#     resnet_param.data.copy_(vgg_param.data)\n",
    "\n",
    "vgg_fc_weight = model['fc.weight']\n",
    "vgg_fc_bias = model['fc.bias']\n",
    "resnet_model.fc.weight.data.copy_(vgg_fc_weight)\n",
    "resnet_model.fc.bias.data.copy_(vgg_fc_bias)    \n",
    "\n",
    "# Save the ResNet18 model with transferred weights\n",
    "resnet18_path = \"resnet18_with_transferred_weights.pth\"\n",
    "torch.save(resnet_model.state_dict(), resnet18_path)"
   ]
  },
  {
   "cell_type": "code",
   "execution_count": null,
   "metadata": {},
   "outputs": [
    {
     "name": "stderr",
     "output_type": "stream",
     "text": [
      "Using cache found in C:\\Users\\97158/.cache\\torch\\hub\\pytorch_vision_v0.10.0\n"
     ]
    },
    {
     "ename": "KeyError",
     "evalue": "'model_output\\\\model.pth'",
     "output_type": "error",
     "traceback": [
      "\u001b[1;31m---------------------------------------------------------------------------\u001b[0m",
      "\u001b[1;31mKeyError\u001b[0m                                  Traceback (most recent call last)",
      "Cell \u001b[1;32mIn[51], line 2\u001b[0m\n\u001b[0;32m      1\u001b[0m \u001b[38;5;66;03m# Initialize the ResNet18 model\u001b[39;00m\n\u001b[1;32m----> 2\u001b[0m resnet_model\u001b[38;5;241m=\u001b[39m torch\u001b[38;5;241m.\u001b[39mhub\u001b[38;5;241m.\u001b[39mload(\u001b[38;5;124m'\u001b[39m\u001b[38;5;124mpytorch/vision:v0.10.0\u001b[39m\u001b[38;5;124m'\u001b[39m,\u001b[38;5;124m'\u001b[39m\u001b[38;5;124mresnet18\u001b[39m\u001b[38;5;124m'\u001b[39m,weights\u001b[38;5;241m=\u001b[39mModel_path, skip_validation\u001b[38;5;241m=\u001b[39m\u001b[38;5;28;01mTrue\u001b[39;00m)\n",
      "File \u001b[1;32mc:\\Users\\97158\\anaconda3\\Lib\\site-packages\\torch\\hub.py:566\u001b[0m, in \u001b[0;36mload\u001b[1;34m(repo_or_dir, model, source, trust_repo, force_reload, verbose, skip_validation, *args, **kwargs)\u001b[0m\n\u001b[0;32m    562\u001b[0m \u001b[38;5;28;01mif\u001b[39;00m source \u001b[38;5;241m==\u001b[39m \u001b[38;5;124m'\u001b[39m\u001b[38;5;124mgithub\u001b[39m\u001b[38;5;124m'\u001b[39m:\n\u001b[0;32m    563\u001b[0m     repo_or_dir \u001b[38;5;241m=\u001b[39m _get_cache_or_reload(repo_or_dir, force_reload, trust_repo, \u001b[38;5;124m\"\u001b[39m\u001b[38;5;124mload\u001b[39m\u001b[38;5;124m\"\u001b[39m,\n\u001b[0;32m    564\u001b[0m                                        verbose\u001b[38;5;241m=\u001b[39mverbose, skip_validation\u001b[38;5;241m=\u001b[39mskip_validation)\n\u001b[1;32m--> 566\u001b[0m model \u001b[38;5;241m=\u001b[39m _load_local(repo_or_dir, model, \u001b[38;5;241m*\u001b[39margs, \u001b[38;5;241m*\u001b[39m\u001b[38;5;241m*\u001b[39mkwargs)\n\u001b[0;32m    567\u001b[0m \u001b[38;5;28;01mreturn\u001b[39;00m model\n",
      "File \u001b[1;32mc:\\Users\\97158\\anaconda3\\Lib\\site-packages\\torch\\hub.py:595\u001b[0m, in \u001b[0;36m_load_local\u001b[1;34m(hubconf_dir, model, *args, **kwargs)\u001b[0m\n\u001b[0;32m    592\u001b[0m     hub_module \u001b[38;5;241m=\u001b[39m _import_module(MODULE_HUBCONF, hubconf_path)\n\u001b[0;32m    594\u001b[0m     entry \u001b[38;5;241m=\u001b[39m _load_entry_from_hubconf(hub_module, model)\n\u001b[1;32m--> 595\u001b[0m     model \u001b[38;5;241m=\u001b[39m entry(\u001b[38;5;241m*\u001b[39margs, \u001b[38;5;241m*\u001b[39m\u001b[38;5;241m*\u001b[39mkwargs)\n\u001b[0;32m    597\u001b[0m \u001b[38;5;28;01mreturn\u001b[39;00m model\n",
      "File \u001b[1;32mc:\\Users\\97158\\anaconda3\\Lib\\site-packages\\torchvision\\models\\_utils.py:142\u001b[0m, in \u001b[0;36mkwonly_to_pos_or_kw.<locals>.wrapper\u001b[1;34m(*args, **kwargs)\u001b[0m\n\u001b[0;32m    135\u001b[0m     warnings\u001b[38;5;241m.\u001b[39mwarn(\n\u001b[0;32m    136\u001b[0m         \u001b[38;5;124mf\u001b[39m\u001b[38;5;124m\"\u001b[39m\u001b[38;5;124mUsing \u001b[39m\u001b[38;5;132;01m{\u001b[39;00msequence_to_str(\u001b[38;5;28mtuple\u001b[39m(keyword_only_kwargs\u001b[38;5;241m.\u001b[39mkeys()),\u001b[38;5;250m \u001b[39mseparate_last\u001b[38;5;241m=\u001b[39m\u001b[38;5;124m'\u001b[39m\u001b[38;5;124mand \u001b[39m\u001b[38;5;124m'\u001b[39m)\u001b[38;5;132;01m}\u001b[39;00m\u001b[38;5;124m as positional \u001b[39m\u001b[38;5;124m\"\u001b[39m\n\u001b[0;32m    137\u001b[0m         \u001b[38;5;124mf\u001b[39m\u001b[38;5;124m\"\u001b[39m\u001b[38;5;124mparameter(s) is deprecated since 0.13 and may be removed in the future. Please use keyword parameter(s) \u001b[39m\u001b[38;5;124m\"\u001b[39m\n\u001b[0;32m    138\u001b[0m         \u001b[38;5;124mf\u001b[39m\u001b[38;5;124m\"\u001b[39m\u001b[38;5;124minstead.\u001b[39m\u001b[38;5;124m\"\u001b[39m\n\u001b[0;32m    139\u001b[0m     )\n\u001b[0;32m    140\u001b[0m     kwargs\u001b[38;5;241m.\u001b[39mupdate(keyword_only_kwargs)\n\u001b[1;32m--> 142\u001b[0m \u001b[38;5;28;01mreturn\u001b[39;00m fn(\u001b[38;5;241m*\u001b[39margs, \u001b[38;5;241m*\u001b[39m\u001b[38;5;241m*\u001b[39mkwargs)\n",
      "File \u001b[1;32mc:\\Users\\97158\\anaconda3\\Lib\\site-packages\\torchvision\\models\\_utils.py:228\u001b[0m, in \u001b[0;36mhandle_legacy_interface.<locals>.outer_wrapper.<locals>.inner_wrapper\u001b[1;34m(*args, **kwargs)\u001b[0m\n\u001b[0;32m    225\u001b[0m     \u001b[38;5;28;01mdel\u001b[39;00m kwargs[pretrained_param]\n\u001b[0;32m    226\u001b[0m     kwargs[weights_param] \u001b[38;5;241m=\u001b[39m default_weights_arg\n\u001b[1;32m--> 228\u001b[0m \u001b[38;5;28;01mreturn\u001b[39;00m builder(\u001b[38;5;241m*\u001b[39margs, \u001b[38;5;241m*\u001b[39m\u001b[38;5;241m*\u001b[39mkwargs)\n",
      "File \u001b[1;32mc:\\Users\\97158\\anaconda3\\Lib\\site-packages\\torchvision\\models\\resnet.py:703\u001b[0m, in \u001b[0;36mresnet18\u001b[1;34m(weights, progress, **kwargs)\u001b[0m\n\u001b[0;32m    682\u001b[0m \u001b[38;5;129m@register_model\u001b[39m()\n\u001b[0;32m    683\u001b[0m \u001b[38;5;129m@handle_legacy_interface\u001b[39m(weights\u001b[38;5;241m=\u001b[39m(\u001b[38;5;124m\"\u001b[39m\u001b[38;5;124mpretrained\u001b[39m\u001b[38;5;124m\"\u001b[39m, ResNet18_Weights\u001b[38;5;241m.\u001b[39mIMAGENET1K_V1))\n\u001b[0;32m    684\u001b[0m \u001b[38;5;28;01mdef\u001b[39;00m \u001b[38;5;21mresnet18\u001b[39m(\u001b[38;5;241m*\u001b[39m, weights: Optional[ResNet18_Weights] \u001b[38;5;241m=\u001b[39m \u001b[38;5;28;01mNone\u001b[39;00m, progress: \u001b[38;5;28mbool\u001b[39m \u001b[38;5;241m=\u001b[39m \u001b[38;5;28;01mTrue\u001b[39;00m, \u001b[38;5;241m*\u001b[39m\u001b[38;5;241m*\u001b[39mkwargs: Any) \u001b[38;5;241m-\u001b[39m\u001b[38;5;241m>\u001b[39m ResNet:\n\u001b[0;32m    685\u001b[0m \u001b[38;5;250m    \u001b[39m\u001b[38;5;124;03m\"\"\"ResNet-18 from `Deep Residual Learning for Image Recognition <https://arxiv.org/abs/1512.03385>`__.\u001b[39;00m\n\u001b[0;32m    686\u001b[0m \n\u001b[0;32m    687\u001b[0m \u001b[38;5;124;03m    Args:\u001b[39;00m\n\u001b[1;32m   (...)\u001b[0m\n\u001b[0;32m    701\u001b[0m \u001b[38;5;124;03m        :members:\u001b[39;00m\n\u001b[0;32m    702\u001b[0m \u001b[38;5;124;03m    \"\"\"\u001b[39;00m\n\u001b[1;32m--> 703\u001b[0m     weights \u001b[38;5;241m=\u001b[39m ResNet18_Weights\u001b[38;5;241m.\u001b[39mverify(weights)\n\u001b[0;32m    705\u001b[0m     \u001b[38;5;28;01mreturn\u001b[39;00m _resnet(BasicBlock, [\u001b[38;5;241m2\u001b[39m, \u001b[38;5;241m2\u001b[39m, \u001b[38;5;241m2\u001b[39m, \u001b[38;5;241m2\u001b[39m], weights, progress, \u001b[38;5;241m*\u001b[39m\u001b[38;5;241m*\u001b[39mkwargs)\n",
      "File \u001b[1;32mc:\\Users\\97158\\anaconda3\\Lib\\site-packages\\torchvision\\models\\_api.py:82\u001b[0m, in \u001b[0;36mWeightsEnum.verify\u001b[1;34m(cls, obj)\u001b[0m\n\u001b[0;32m     80\u001b[0m \u001b[38;5;28;01mif\u001b[39;00m obj \u001b[38;5;129;01mis\u001b[39;00m \u001b[38;5;129;01mnot\u001b[39;00m \u001b[38;5;28;01mNone\u001b[39;00m:\n\u001b[0;32m     81\u001b[0m     \u001b[38;5;28;01mif\u001b[39;00m \u001b[38;5;28mtype\u001b[39m(obj) \u001b[38;5;129;01mis\u001b[39;00m \u001b[38;5;28mstr\u001b[39m:\n\u001b[1;32m---> 82\u001b[0m         obj \u001b[38;5;241m=\u001b[39m \u001b[38;5;28mcls\u001b[39m[obj\u001b[38;5;241m.\u001b[39mreplace(\u001b[38;5;28mcls\u001b[39m\u001b[38;5;241m.\u001b[39m\u001b[38;5;18m__name__\u001b[39m \u001b[38;5;241m+\u001b[39m \u001b[38;5;124m\"\u001b[39m\u001b[38;5;124m.\u001b[39m\u001b[38;5;124m\"\u001b[39m, \u001b[38;5;124m\"\u001b[39m\u001b[38;5;124m\"\u001b[39m)]\n\u001b[0;32m     83\u001b[0m     \u001b[38;5;28;01melif\u001b[39;00m \u001b[38;5;129;01mnot\u001b[39;00m \u001b[38;5;28misinstance\u001b[39m(obj, \u001b[38;5;28mcls\u001b[39m):\n\u001b[0;32m     84\u001b[0m         \u001b[38;5;28;01mraise\u001b[39;00m \u001b[38;5;167;01mTypeError\u001b[39;00m(\n\u001b[0;32m     85\u001b[0m             \u001b[38;5;124mf\u001b[39m\u001b[38;5;124m\"\u001b[39m\u001b[38;5;124mInvalid Weight class provided; expected \u001b[39m\u001b[38;5;132;01m{\u001b[39;00m\u001b[38;5;28mcls\u001b[39m\u001b[38;5;241m.\u001b[39m\u001b[38;5;18m__name__\u001b[39m\u001b[38;5;132;01m}\u001b[39;00m\u001b[38;5;124m but received \u001b[39m\u001b[38;5;132;01m{\u001b[39;00mobj\u001b[38;5;241m.\u001b[39m\u001b[38;5;18m__class__\u001b[39m\u001b[38;5;241m.\u001b[39m\u001b[38;5;18m__name__\u001b[39m\u001b[38;5;132;01m}\u001b[39;00m\u001b[38;5;124m.\u001b[39m\u001b[38;5;124m\"\u001b[39m\n\u001b[0;32m     86\u001b[0m         )\n",
      "File \u001b[1;32mc:\\Users\\97158\\anaconda3\\Lib\\enum.py:790\u001b[0m, in \u001b[0;36mEnumType.__getitem__\u001b[1;34m(cls, name)\u001b[0m\n\u001b[0;32m    786\u001b[0m \u001b[38;5;28;01mdef\u001b[39;00m \u001b[38;5;21m__getitem__\u001b[39m(\u001b[38;5;28mcls\u001b[39m, name):\n\u001b[0;32m    787\u001b[0m \u001b[38;5;250m    \u001b[39m\u001b[38;5;124;03m\"\"\"\u001b[39;00m\n\u001b[0;32m    788\u001b[0m \u001b[38;5;124;03m    Return the member matching `name`.\u001b[39;00m\n\u001b[0;32m    789\u001b[0m \u001b[38;5;124;03m    \"\"\"\u001b[39;00m\n\u001b[1;32m--> 790\u001b[0m     \u001b[38;5;28;01mreturn\u001b[39;00m \u001b[38;5;28mcls\u001b[39m\u001b[38;5;241m.\u001b[39m_member_map_[name]\n",
      "\u001b[1;31mKeyError\u001b[0m: 'model_output\\\\model.pth'"
     ]
    }
   ],
   "source": [
    "# Initialize the ResNet18 model\n",
    "# resnet_model= torch.hub.load('pytorch/vision:v0.10.0','resnet18',weights=None, skip_validation=True)\n",
    "# resnet_model.load_weights(Model_path)"
   ]
  },
  {
   "cell_type": "code",
   "execution_count": null,
   "metadata": {},
   "outputs": [],
   "source": [
    "# Building the custom model\n",
    "\n",
    "model=classifier(baseModel=basemodel.to(Device),numclasses=2,model=resnet_model)\n",
    "model=model.to(Device)\n",
    "\n",
    "# Loading the model state (weights) and initializing the loss function\n",
    "\n",
    "# model.load_state_dict(torch.load(Model_path))"
   ]
  }
 ],
 "metadata": {
  "kernelspec": {
   "display_name": "base",
   "language": "python",
   "name": "python3"
  },
  "language_info": {
   "codemirror_mode": {
    "name": "ipython",
    "version": 3
   },
   "file_extension": ".py",
   "mimetype": "text/x-python",
   "name": "python",
   "nbconvert_exporter": "python",
   "pygments_lexer": "ipython3",
   "version": "3.11.5"
  }
 },
 "nbformat": 4,
 "nbformat_minor": 2
}
