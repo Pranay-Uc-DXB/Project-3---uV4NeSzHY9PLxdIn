{
 "cells": [
  {
   "cell_type": "code",
   "execution_count": 132,
   "metadata": {},
   "outputs": [],
   "source": [
    "import torch\n",
    "from torchvision import datasets, transforms\n",
    "from torch.utils.data import DataLoader\n",
    "from torch.utils.data import random_split\n"
   ]
  },
  {
   "cell_type": "code",
   "execution_count": 133,
   "metadata": {},
   "outputs": [],
   "source": [
    "from torch import nn\n",
    "from torch.nn import Module\n",
    "from torch.nn import Conv2d\n",
    "from torch.nn import Linear\n",
    "from torch.nn import MaxPool2d\n",
    "from torch.nn import ReLU\n",
    "from torch.nn import LogSoftmax\n",
    "from torch import flatten\n",
    "# from torch.nn import Flatten          // what is the diff between this one and the flatten above?\n",
    "from torch.optim import Adam\n",
    "\n",
    "\n",
    "import matplotlib\n",
    "matplotlib.use(\"TKAgg\")\n",
    "import numpy as np\n",
    "import matplotlib.pyplot as plt\n",
    "import argparse\n",
    "from sklearn.metrics import classification_report"
   ]
  },
  {
   "cell_type": "code",
   "execution_count": 134,
   "metadata": {},
   "outputs": [],
   "source": [
    "# Configuring the device setting we will be using to train the model\n",
    "\n",
    "device=torch.device(\"cuda\" if torch.cuda.is_available() else \"cpu\")"
   ]
  },
  {
   "cell_type": "code",
   "execution_count": 135,
   "metadata": {},
   "outputs": [],
   "source": [
    "#Specifying the paths to train and test set directories\n",
    "\n",
    "train_data_dir= r\"C:\\Users\\97158\\Desktop\\Apziva\\Project 4-MonReader\\images\\training\"    # Actual Size(1=1162,0=1230)\n",
    "test_data_dir= r\"C:\\Users\\97158\\Desktop\\Apziva\\Project 4-MonReader\\images\\testing\"      # Actual Size(1=,0=)"
   ]
  },
  {
   "cell_type": "code",
   "execution_count": 136,
   "metadata": {},
   "outputs": [],
   "source": [
    "# Defining transformation for the data\n",
    "\n",
    "# - Resizing the Image\n",
    "# - converting image into tensors\n",
    "# - Normalizing the tensors\n",
    "\n",
    "transform=transforms.Compose([transforms.Resize((224,224)),\n",
    "                              transforms.ToTensor(),\n",
    "                              transforms.Normalize(mean=[0.485, 0.456, 0.406],std=[0.229, 0.224, 0.225])])    # 3 values because each pixel in the image has 3 values (RGB)\n",
    "\n",
    "# The values for mean and for standard deviation are commonly used values for normalizing images derived from ImageNet dataset statistics"
   ]
  },
  {
   "cell_type": "code",
   "execution_count": 137,
   "metadata": {},
   "outputs": [],
   "source": [
    "# Loading and training datasets\n",
    "train_dataset= datasets.ImageFolder(root=train_data_dir,transform=transform)\n",
    "\n",
    "test_dataset= datasets.ImageFolder(root=test_data_dir,transform=transform)"
   ]
  },
  {
   "cell_type": "code",
   "execution_count": 138,
   "metadata": {},
   "outputs": [
    {
     "name": "stdout",
     "output_type": "stream",
     "text": [
      "{'0_notflip': 0, '1_flip': 1}\n",
      "{'0_notflip': 0, '1_flip': 1}\n"
     ]
    }
   ],
   "source": [
    "# Checking to make sure right labels have been attached to the classes\n",
    "\n",
    "print(train_dataset.class_to_idx)\n",
    "print(test_dataset.class_to_idx)"
   ]
  },
  {
   "cell_type": "code",
   "execution_count": 158,
   "metadata": {},
   "outputs": [
    {
     "name": "stdout",
     "output_type": "stream",
     "text": [
      "Size of class 1 ('flip'):  1162\n"
     ]
    }
   ],
   "source": [
    "# Counting the number of samples in class 1 ('flip')\n",
    "class_flip_size = sum(1 for target in train_dataset.targets if target == 1)\n",
    "\n",
    "print(\"Size of class 1 ('flip'): \", class_flip_size)"
   ]
  },
  {
   "cell_type": "code",
   "execution_count": 140,
   "metadata": {},
   "outputs": [],
   "source": [
    "# Defining Training and validation split\n",
    "\n",
    "TRAIN_SPLIT=0.75\n",
    "VAL_SPLIT=1-TRAIN_SPLIT"
   ]
  },
  {
   "cell_type": "code",
   "execution_count": 141,
   "metadata": {},
   "outputs": [],
   "source": [
    "# Calculating the train/validation split\n",
    "\n",
    "numTrainSamples= int(len(train_dataset)*TRAIN_SPLIT)\n",
    "numValSamples=int(len(train_dataset)*VAL_SPLIT)\n",
    "\n",
    "train_data,val_data= random_split(train_dataset,\n",
    "                                  [numTrainSamples, numValSamples],\n",
    "                                  generator=torch.Generator().manual_seed(42))"
   ]
  },
  {
   "cell_type": "code",
   "execution_count": 142,
   "metadata": {},
   "outputs": [
    {
     "name": "stdout",
     "output_type": "stream",
     "text": [
      "Training set size : 1794\n",
      "Validation set size : 598\n",
      "Total Training Examples : 2392\n"
     ]
    }
   ],
   "source": [
    "print(\"Training set size :\",len(train_data))\n",
    "print(\"Validation set size :\",len(val_data))\n",
    "print(\"Total Training Examples :\",len(train_data)+len(val_data))"
   ]
  },
  {
   "cell_type": "code",
   "execution_count": 143,
   "metadata": {},
   "outputs": [],
   "source": [
    "# Defining batch size and epochs\n",
    "\n",
    "EPOCHS=10\n",
    "BATCH_SIZE=32"
   ]
  },
  {
   "cell_type": "code",
   "execution_count": 144,
   "metadata": {},
   "outputs": [],
   "source": [
    "# Creating dataloader to load images in batches\n",
    "\n",
    "train_loader= DataLoader(train_data, batch_size=BATCH_SIZE, shuffle=True)\n",
    "val_loader=   DataLoader(val_data, batch_size=BATCH_SIZE)\n",
    "test_loader=  DataLoader(test_dataset, batch_size=BATCH_SIZE)"
   ]
  },
  {
   "cell_type": "code",
   "execution_count": 145,
   "metadata": {},
   "outputs": [
    {
     "name": "stdout",
     "output_type": "stream",
     "text": [
      "Class labels: ['0_notflip', '1_flip']\n",
      "Class labels: ['0_notflip', '1_flip']\n"
     ]
    }
   ],
   "source": [
    "# Innspecting the class labels\n",
    "class_names = train_dataset.classes\n",
    "print(\"Class labels:\", class_names)\n",
    "\n",
    "class_names = test_dataset.classes\n",
    "print(\"Class labels:\", class_names)"
   ]
  },
  {
   "cell_type": "code",
   "execution_count": 146,
   "metadata": {},
   "outputs": [
    {
     "data": {
      "text/plain": [
       "(-0.5, 223.5, 223.5, -0.5)"
      ]
     },
     "execution_count": 146,
     "metadata": {},
     "output_type": "execute_result"
    }
   ],
   "source": [
    "# Testing dataloader\n",
    "import matplotlib.pyplot as plt\n",
    "\n",
    "images, labels=next(iter(train_loader))\n",
    "images=images[0]\n",
    "images = images.permute(1, 2, 0).numpy() \n",
    "images=np.clip(images,0,1)\n",
    "plt.imshow(images)\n",
    "plt.axis('off')"
   ]
  },
  {
   "cell_type": "code",
   "execution_count": 147,
   "metadata": {},
   "outputs": [],
   "source": [
    "# calculate steps per epoch for training and validation set\n",
    "trainSteps = len(train_loader.dataset) // BATCH_SIZE\n",
    "valSteps = len(val_loader.dataset) // BATCH_SIZE"
   ]
  },
  {
   "cell_type": "markdown",
   "metadata": {},
   "source": [
    "Since its my first implementation of CNN in Pytorch, I will begin with a shallow CNN architecture called LeNet. LeNet Architecture is defined as follow:\n",
    "\n",
    "(CONV -> ReLu -> Pool)*2 => fully connected layer => ReLu => Fully connected Layer => Softmax"
   ]
  },
  {
   "cell_type": "code",
   "execution_count": 148,
   "metadata": {},
   "outputs": [],
   "source": [
    "# Implementing LeNet Architecture. Here we will be building the model as a class to\n",
    " # reuse variables\n",
    " # implement custom functions\n",
    " # define our forward pass\n",
    "\n",
    "class LeNet(Module):                      # Subclassing the module object\n",
    "    def __init__(self, numChannels, classes):\n",
    "        \n",
    "        super(LeNet,self).__init__()     # Calling parent constructor/ general format -> super().__init__(*args, **kwargs)\n",
    "\n",
    "        #Building CONV -> ReLu -> Pool\n",
    "        self.conv1=Conv2d(in_channels=numChannels,out_channels=20,kernel_size=(5,5))   #Check out_channels and padding? 20filters\n",
    "        self.relu1=ReLU()\n",
    "        self.maxpool1=MaxPool2d(kernel_size=(2,2),stride=(2,2))\n",
    "\n",
    "        #Building 2nd CONV -> ReLu -> Pool\n",
    "        self.conv2=Conv2d(in_channels=20,out_channels=50,kernel_size=(5,5))   #Check out_channels and padding?\n",
    "        self.relu2=ReLU()\n",
    "        self.maxpool2=MaxPool2d(kernel_size=(2,2),stride=(2,2))\n",
    "\n",
    "        num_features=self.calculate_num_features((numChannels,224,224))\n",
    "\n",
    "        #Building the first and only set of fully connected layer and ReLu layer\n",
    "        self.fc1=Linear(in_features=num_features,out_features=500)\n",
    "        self.relu3=ReLU()\n",
    "\n",
    "        #Building the last set of fully connected layer and softmanx function for classification\n",
    "        self.fc2=Linear(in_features=500, out_features=classes)\n",
    "        self.softmax=LogSoftmax(dim=1)\n",
    "\n",
    "     # IN the above code, all we have done is initialized the variables. Now we will build the architecture itself by defining forward propogation. \n",
    "\n",
    "    def forward(self, x):\n",
    "\n",
    "        # passing via first CONV -> ReLu -> Pool layer\n",
    "        x=self.conv1(x)\n",
    "        x=self.relu1(x)\n",
    "        x=self.maxpool1(x)\n",
    "\n",
    "        # passing via 2nd CONV -> ReLu -> Pool layer\n",
    "        x=self.conv2(x)\n",
    "        x=self.relu2(x)\n",
    "        x=self.maxpool2(x)\n",
    "\n",
    "        # passing via set of FC and ReLu\n",
    "        # First we flatten the output from previous layer\n",
    "        x=flatten(x,1)      #Converting multidimentional tensor into 1D list of values\n",
    "        \n",
    "        x=self.fc1(x)\n",
    "        x=self.relu3(x)\n",
    "\n",
    "                #passing via the final layer for classification\n",
    "        x=self.fc2(x)\n",
    "        output=self.softmax(x)\n",
    "\n",
    "        return output   \n",
    "\n",
    "    def calculate_num_features(self, input_size):\n",
    "        # Function to calculate the number of features after the last pooling layer\n",
    "        x = torch.randn(1, *input_size)\n",
    "        x = self.conv1(x)\n",
    "        x = self.relu1(x)\n",
    "        x = self.maxpool1(x)\n",
    "        x = self.conv2(x)\n",
    "        x = self.relu2(x)\n",
    "        x = self.maxpool2(x)\n",
    "        return x.view(x.size(0), -1).shape[1] \n"
   ]
  },
  {
   "cell_type": "code",
   "execution_count": 149,
   "metadata": {},
   "outputs": [],
   "source": [
    "# # Definfing command line arguments that need parsing for output and model for training. \n",
    "\n",
    "# ap= argparse.ArgumentParser()\n",
    "# ap.add_argument(\"-m\",\"--model\",type=str,required=True,help=\"path to output trained model\")\n",
    "# ap.add_argument(\"-p\",\"--plot\", type=str, required=True,help=\"path to output loss/accuracy plot\")\n",
    "# args=vars(ap.parse_args())"
   ]
  },
  {
   "cell_type": "code",
   "execution_count": 150,
   "metadata": {},
   "outputs": [
    {
     "name": "stdout",
     "output_type": "stream",
     "text": [
      "Number of features after the last pooling layer: 140450\n"
     ]
    }
   ],
   "source": [
    "# Initilizing our model\n",
    "model=LeNet(numChannels=3,classes=len(class_names)).to(device=device)\n",
    "\n",
    "\n",
    "num_features = model.calculate_num_features((3, 224, 224))\n",
    "print(\"Number of features after the last pooling layer:\", num_features)\n",
    "\n",
    "# Defining our optimizers and loss functions\n",
    "Optz= Adam(model.parameters(),lr=0.001)\n",
    "loss_func= nn.NLLLoss()\n",
    "\n",
    "#When we combine the nn.NLLoss class with LogSoftmax in our model definition, we arrive at categorical cross-entropy loss \n",
    "#(which is the equivalent to training a model with an output Linear layer and an nn.CrossEntropyLoss loss)\n",
    "\n",
    "# Creating results directory\n",
    "Train_val_perf_rslt={\"Train_loss\":[],\n",
    "                        \"Train_acc\":[],\n",
    "                        \"Val_loss\":[],\n",
    "                        \"Val_acc\":[]}"
   ]
  },
  {
   "cell_type": "code",
   "execution_count": 151,
   "metadata": {},
   "outputs": [
    {
     "name": "stdout",
     "output_type": "stream",
     "text": [
      "[INFO] EPOCH: 1/10\n",
      "Train Loss: 0.9280,Train Accuracy: 24.0179\n",
      "Val Loss: 0.3636, Val Accuracy: 27.6667\n",
      "[INFO] EPOCH: 2/10\n",
      "Train Loss: 0.1729,Train Accuracy: 30.0179\n",
      "Val Loss: 1.3368, Val Accuracy: 23.3889\n",
      "[INFO] EPOCH: 3/10\n",
      "Train Loss: 0.2140,Train Accuracy: 29.5000\n",
      "Val Loss: 0.1024, Val Accuracy: 32.3333\n",
      "[INFO] EPOCH: 4/10\n",
      "Train Loss: 0.0390,Train Accuracy: 31.5714\n",
      "Val Loss: 0.0415, Val Accuracy: 32.7778\n",
      "[INFO] EPOCH: 5/10\n",
      "Train Loss: 0.0133,Train Accuracy: 32.0000\n",
      "Val Loss: 0.0329, Val Accuracy: 32.6667\n",
      "[INFO] EPOCH: 6/10\n",
      "Train Loss: 0.0132,Train Accuracy: 31.9107\n",
      "Val Loss: 0.0331, Val Accuracy: 32.8333\n",
      "[INFO] EPOCH: 7/10\n",
      "Train Loss: 0.0036,Train Accuracy: 32.0357\n",
      "Val Loss: 0.0158, Val Accuracy: 33.0556\n",
      "[INFO] EPOCH: 8/10\n",
      "Train Loss: 0.0073,Train Accuracy: 31.9643\n",
      "Val Loss: 0.0329, Val Accuracy: 32.8333\n",
      "[INFO] EPOCH: 9/10\n",
      "Train Loss: 0.0035,Train Accuracy: 32.0179\n",
      "Val Loss: 0.0137, Val Accuracy: 33.1667\n",
      "[INFO] EPOCH: 10/10\n",
      "Train Loss: 0.0015,Train Accuracy: 32.0179\n",
      "Val Loss: 0.0103, Val Accuracy: 33.1111\n"
     ]
    }
   ],
   "source": [
    "# Looping over our epochs\n",
    "for e in range(0,EPOCHS):\n",
    "    \n",
    "# Setting the model in training mode\n",
    "    model.train()\n",
    "\n",
    "# initializing the total training and validation loss\n",
    "    total_train_loss=0\n",
    "    total_val_loss=0\n",
    "\n",
    "# initializing the no. of total correct predictions\n",
    "    pred_train_corr=0\n",
    "    pred_val_corr=0\n",
    "\n",
    "# looping over the train set\n",
    "    for (x,y) in train_loader:\n",
    "        (x,y)=(x.to(device),y.to(device))\n",
    "\n",
    "# performing a forward pass and calculating training loss\n",
    "        pred=model(x)\n",
    "        loss=loss_func(pred,y)\n",
    "\n",
    "# zeroing out the gradient to perform back propogation for updating weights\n",
    "        Optz.zero_grad()\n",
    "        loss.backward()\n",
    "        Optz.step()\n",
    "# Adding the above loss to the total loss accumulated and calculating the total no. of correctly predicted labels\n",
    "        \n",
    "        total_train_loss += loss\n",
    "        pred_train_corr += (pred.argmax(1)== y).type(torch.float).sum().item()\n",
    "\n",
    "# Swithing off autograd for evaluation\n",
    "    with torch.no_grad():\n",
    "\n",
    "        # setting the model in evaluation mode\n",
    "        model.eval()\n",
    "\n",
    "    #  looping over validation set\n",
    "        for (x,y) in val_loader:\n",
    "            (x,y)=(x.to(device), y.to(device))\n",
    "    # making the predictions and calculating the validation loss\n",
    "            pred=model(x)\n",
    "            total_val_loss += loss_func(pred,y)\n",
    "    # calculate the number of correct predictions\n",
    "            pred_val_corr+= (pred.argmax(1)==y).type(torch.float).sum().item()\n",
    "\n",
    "    # Calculating the avg. training and validation loss\n",
    "        avg_train_loss= total_train_loss/trainSteps\n",
    "        avg_val_loss=total_val_loss/valSteps\n",
    "\n",
    "            # Calculating training and validation accuracy\n",
    "        train_acc= pred_train_corr/trainSteps\n",
    "        val_acc= pred_val_corr/valSteps\n",
    "\n",
    "            # Updating training history\n",
    "        Train_val_perf_rslt['Train_loss'].append(avg_train_loss.cpu().detach().numpy())\n",
    "        Train_val_perf_rslt['Train_acc'].append(train_acc)\n",
    "        Train_val_perf_rslt['Val_loss'].append(avg_val_loss.cpu().detach().numpy())\n",
    "        Train_val_perf_rslt['Val_acc'].append(val_acc)                      \n",
    "                            \n",
    "            # Printing training and validation performance\n",
    "        print(\"[INFO] EPOCH: {}/{}\".format(e+1,EPOCHS))\n",
    "        print(\"Train Loss: {:.4f},Train Accuracy: {:.4f}\".format(avg_train_loss,train_acc))\n",
    "        print(\"Val Loss: {:.4f}, Val Accuracy: {:.4f}\".format(avg_val_loss,val_acc))              \n",
    "            "
   ]
  },
  {
   "cell_type": "code",
   "execution_count": 157,
   "metadata": {},
   "outputs": [
    {
     "data": {
      "image/png": "[encoded data removed]",
      "text/plain": [
       "<Figure size 640x480 with 1 Axes>"
      ]
     },
     "metadata": {},
     "output_type": "display_data"
    }
   ],
   "source": [
    "# Plotting the training loss and accuracy\n",
    "%matplotlib inline\n",
    "\n",
    "plt.style.use('ggplot')\n",
    "plt.figure()\n",
    "plt.title('Loss and Accuracy of Train & Val Datasets')\n",
    "plt.xlabel('Epochs')\n",
    "plt.ylabel('Loss/Accuracy')\n",
    "plt.plot(Train_val_perf_rslt['Train_loss'],label='Train Loss')\n",
    "plt.plot(Train_val_perf_rslt['Train_acc'],label='Train Acc')\n",
    "plt.plot(Train_val_perf_rslt['Val_loss'],label='Val Loss')\n",
    "plt.plot(Train_val_perf_rslt['Val_acc'],label='Val Acc')\n",
    "plt.legend(loc='upper right')\n",
    "plt.show()\n"
   ]
  },
  {
   "cell_type": "code",
   "execution_count": 156,
   "metadata": {},
   "outputs": [
    {
     "name": "stdout",
     "output_type": "stream",
     "text": [
      "              precision    recall  f1-score   support\n",
      "\n",
      "   0_notflip       0.98      1.00      0.99       307\n",
      "      1_flip       1.00      0.98      0.99       290\n",
      "\n",
      "    accuracy                           0.99       597\n",
      "   macro avg       0.99      0.99      0.99       597\n",
      "weighted avg       0.99      0.99      0.99       597\n",
      "\n"
     ]
    }
   ],
   "source": [
    "# Turning off autograd for testing evaluation\n",
    "with torch.no_grad():\n",
    "\n",
    "# setting the model in evaluation mode\n",
    "    model.eval()\n",
    "\n",
    "# initializing list to store predictions\n",
    "    train_pred=[]\n",
    "\n",
    "# looping over the test set\n",
    "    for (x,y) in test_loader:\n",
    "        x=x.to(device)\n",
    "\n",
    "# making predictions and adding them to the lisy above\n",
    "        pred=model(x)\n",
    "        train_pred.extend(pred.argmax(axis=1).cpu().numpy())\n",
    "\n",
    "test_targets=np.array(test_dataset.targets)\n",
    "train_pred=np.array(train_pred)\n",
    "\n",
    "# generating classification report\n",
    "print(classification_report(test_targets,train_pred,target_names=test_dataset.classes))\n"
   ]
  },
  {
   "cell_type": "code",
   "execution_count": null,
   "metadata": {},
   "outputs": [],
   "source": [
    "# serialize the model to disk\n",
    "torch.save(model, args[\"LeNet_model\"])"
   ]
  },
  {
   "cell_type": "code",
   "execution_count": null,
   "metadata": {},
   "outputs": [
    {
     "data": {
      "text/plain": [
       "['0_notflip', '1_flip']"
      ]
     },
     "execution_count": 93,
     "metadata": {},
     "output_type": "execute_result"
    }
   ],
   "source": [
    "if test_dataset.classes == '1_flip':\n",
    "        test_dataset.class_to_idx={'1_flip':1}\n",
    "elif test_dataset.classes == '0_notflip':\n",
    "        test_dataset.class_to_idx={'0_notflip':0}\n",
    "\n",
    "test_dataset.classes        \n"
   ]
  },
  {
   "cell_type": "code",
   "execution_count": null,
   "metadata": {},
   "outputs": [],
   "source": []
  },
  {
   "cell_type": "code",
   "execution_count": null,
   "metadata": {},
   "outputs": [],
   "source": []
  }
 ],
 "metadata": {
  "kernelspec": {
   "display_name": "base",
   "language": "python",
   "name": "python3"
  },
  "language_info": {
   "codemirror_mode": {
    "name": "ipython",
    "version": 3
   },
   "file_extension": ".py",
   "mimetype": "text/x-python",
   "name": "python",
   "nbconvert_exporter": "python",
   "pygments_lexer": "ipython3",
   "version": "3.11.5"
  }
 },
 "nbformat": 4,
 "nbformat_minor": 2
}
